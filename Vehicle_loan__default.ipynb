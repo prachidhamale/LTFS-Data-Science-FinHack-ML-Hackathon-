{
  "nbformat": 4,
  "nbformat_minor": 0,
  "metadata": {
    "colab": {
      "name": "VehicleloandefaultLTFS.ipynb",
      "version": "0.3.2",
      "provenance": [],
      "collapsed_sections": []
    },
    "kernelspec": {
      "name": "python3",
      "display_name": "Python 3"
    },
    "accelerator": "GPU"
  },
  "cells": [
    {
      "metadata": {
        "id": "5SyzCRO1N5Lt",
        "colab_type": "code",
        "outputId": "51572f55-89fa-4315-a49f-7edd93a57c2e",
        "colab": {
          "base_uri": "https://localhost:8080/",
          "height": 230
        }
      },
      "cell_type": "code",
      "source": [
        "!pip install catboost"
      ],
      "execution_count": 0,
      "outputs": [
        {
          "output_type": "stream",
          "text": [
            "Collecting catboost\n",
            "\u001b[?25l  Downloading https://files.pythonhosted.org/packages/2f/c4/f130237b24efd1941cb685da12496675a90045129b66774751f1bf629dfd/catboost-0.14.2-cp36-none-manylinux1_x86_64.whl (60.6MB)\n",
            "\u001b[K     |████████████████████████████████| 60.6MB 1.3MB/s \n",
            "\u001b[?25hRequirement already satisfied: pandas>=0.19.1 in /usr/local/lib/python3.6/dist-packages (from catboost) (0.24.2)\n",
            "Requirement already satisfied: graphviz in /usr/local/lib/python3.6/dist-packages (from catboost) (0.10.1)\n",
            "Requirement already satisfied: enum34 in /usr/local/lib/python3.6/dist-packages (from catboost) (1.1.6)\n",
            "Requirement already satisfied: six in /usr/local/lib/python3.6/dist-packages (from catboost) (1.12.0)\n",
            "Requirement already satisfied: numpy>=1.11.1 in /usr/local/lib/python3.6/dist-packages (from catboost) (1.16.3)\n",
            "Requirement already satisfied: pytz>=2011k in /usr/local/lib/python3.6/dist-packages (from pandas>=0.19.1->catboost) (2018.9)\n",
            "Requirement already satisfied: python-dateutil>=2.5.0 in /usr/local/lib/python3.6/dist-packages (from pandas>=0.19.1->catboost) (2.5.3)\n",
            "Installing collected packages: catboost\n",
            "Successfully installed catboost-0.14.2\n"
          ],
          "name": "stdout"
        }
      ]
    },
    {
      "metadata": {
        "id": "IiPMupw-eUPi",
        "colab_type": "code",
        "colab": {}
      },
      "cell_type": "code",
      "source": [
        "# Basic Libraries for Data organization, Statistical operations and Plotting\n",
        "import pandas as pd\n",
        "import numpy as np\n",
        "import matplotlib.pyplot as plt\n",
        "import seaborn as sns\n",
        "\n",
        "#Evaluation of Model\n",
        "from sklearn import metrics as sm\n",
        "\n",
        "# To supress warnings\n",
        "import warnings\n",
        "def ignore_warn(*args, **kwargs):\n",
        "    pass\n",
        "warnings.warn = ignore_warn\n",
        "\n",
        "#To perform kFold Cross Validation\n",
        "from sklearn.model_selection import StratifiedKFold\n",
        "\n",
        "\n",
        "from xgboost import XGBClassifier\n",
        "from sklearn.svm import SVC\n",
        "from sklearn.ensemble import RandomForestClassifier\n",
        "from sklearn.tree import DecisionTreeClassifier\n",
        "from sklearn.linear_model import LogisticRegression\n",
        "\n",
        "from sklearn.model_selection import train_test_split"
      ],
      "execution_count": 0,
      "outputs": []
    },
    {
      "metadata": {
        "id": "iq2TG690dWqV",
        "colab_type": "code",
        "outputId": "4a9e8c62-7f57-4245-fbce-3dc30dce2e36",
        "colab": {
          "resources": {
            "http://localhost:8080/nbextensions/google.colab/files.js": {
              "data": "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",
              "ok": true,
              "headers": [
                [
                  "content-type",
                  "application/javascript"
                ]
              ],
              "status": 200,
              "status_text": ""
            }
          },
          "base_uri": "https://localhost:8080/",
          "height": 74
        }
      },
      "cell_type": "code",
      "source": [
        "from google.colab import files\n",
        "uploaded = files.upload()"
      ],
      "execution_count": 0,
      "outputs": [
        {
          "output_type": "display_data",
          "data": {
            "text/html": [
              "\n",
              "     <input type=\"file\" id=\"files-2412c157-1b86-4510-aed4-4e032bd4d75c\" name=\"files[]\" multiple disabled />\n",
              "     <output id=\"result-2412c157-1b86-4510-aed4-4e032bd4d75c\">\n",
              "      Upload widget is only available when the cell has been executed in the\n",
              "      current browser session. Please rerun this cell to enable.\n",
              "      </output>\n",
              "      <script src=\"/nbextensions/google.colab/files.js\"></script> "
            ],
            "text/plain": [
              "<IPython.core.display.HTML object>"
            ]
          },
          "metadata": {
            "tags": []
          }
        },
        {
          "output_type": "stream",
          "text": [
            "Saving train.csv to train.csv\n"
          ],
          "name": "stdout"
        }
      ]
    },
    {
      "metadata": {
        "id": "6WwyJdozKxtB",
        "colab_type": "code",
        "outputId": "5be52bae-a17e-4ad4-9a93-50d2ca186e0c",
        "colab": {
          "base_uri": "https://localhost:8080/",
          "height": 246
        }
      },
      "cell_type": "code",
      "source": [
        "df=pd.read_csv(\"train.csv\", encoding=\"ISO-8859-1\")\n",
        "df.head()"
      ],
      "execution_count": 0,
      "outputs": [
        {
          "output_type": "execute_result",
          "data": {
            "text/html": [
              "<div>\n",
              "<style scoped>\n",
              "    .dataframe tbody tr th:only-of-type {\n",
              "        vertical-align: middle;\n",
              "    }\n",
              "\n",
              "    .dataframe tbody tr th {\n",
              "        vertical-align: top;\n",
              "    }\n",
              "\n",
              "    .dataframe thead th {\n",
              "        text-align: right;\n",
              "    }\n",
              "</style>\n",
              "<table border=\"1\" class=\"dataframe\">\n",
              "  <thead>\n",
              "    <tr style=\"text-align: right;\">\n",
              "      <th></th>\n",
              "      <th>UniqueID</th>\n",
              "      <th>disbursed_amount</th>\n",
              "      <th>asset_cost</th>\n",
              "      <th>ltv</th>\n",
              "      <th>branch_id</th>\n",
              "      <th>supplier_id</th>\n",
              "      <th>manufacturer_id</th>\n",
              "      <th>Current_pincode_ID</th>\n",
              "      <th>Date.of.Birth</th>\n",
              "      <th>Employment.Type</th>\n",
              "      <th>...</th>\n",
              "      <th>SEC.SANCTIONED.AMOUNT</th>\n",
              "      <th>SEC.DISBURSED.AMOUNT</th>\n",
              "      <th>PRIMARY.INSTAL.AMT</th>\n",
              "      <th>SEC.INSTAL.AMT</th>\n",
              "      <th>NEW.ACCTS.IN.LAST.SIX.MONTHS</th>\n",
              "      <th>DELINQUENT.ACCTS.IN.LAST.SIX.MONTHS</th>\n",
              "      <th>AVERAGE.ACCT.AGE</th>\n",
              "      <th>CREDIT.HISTORY.LENGTH</th>\n",
              "      <th>NO.OF_INQUIRIES</th>\n",
              "      <th>loan_default</th>\n",
              "    </tr>\n",
              "  </thead>\n",
              "  <tbody>\n",
              "    <tr>\n",
              "      <th>0</th>\n",
              "      <td>420825</td>\n",
              "      <td>50578</td>\n",
              "      <td>58400</td>\n",
              "      <td>89.55</td>\n",
              "      <td>67</td>\n",
              "      <td>22807</td>\n",
              "      <td>45</td>\n",
              "      <td>1441</td>\n",
              "      <td>01-01-84</td>\n",
              "      <td>Salaried</td>\n",
              "      <td>...</td>\n",
              "      <td>0</td>\n",
              "      <td>0</td>\n",
              "      <td>0</td>\n",
              "      <td>0</td>\n",
              "      <td>0</td>\n",
              "      <td>0</td>\n",
              "      <td>0yrs 0mon</td>\n",
              "      <td>0yrs 0mon</td>\n",
              "      <td>0</td>\n",
              "      <td>0</td>\n",
              "    </tr>\n",
              "    <tr>\n",
              "      <th>1</th>\n",
              "      <td>537409</td>\n",
              "      <td>47145</td>\n",
              "      <td>65550</td>\n",
              "      <td>73.23</td>\n",
              "      <td>67</td>\n",
              "      <td>22807</td>\n",
              "      <td>45</td>\n",
              "      <td>1502</td>\n",
              "      <td>31-07-85</td>\n",
              "      <td>Self employed</td>\n",
              "      <td>...</td>\n",
              "      <td>0</td>\n",
              "      <td>0</td>\n",
              "      <td>1991</td>\n",
              "      <td>0</td>\n",
              "      <td>0</td>\n",
              "      <td>1</td>\n",
              "      <td>1yrs 11mon</td>\n",
              "      <td>1yrs 11mon</td>\n",
              "      <td>0</td>\n",
              "      <td>1</td>\n",
              "    </tr>\n",
              "    <tr>\n",
              "      <th>2</th>\n",
              "      <td>417566</td>\n",
              "      <td>53278</td>\n",
              "      <td>61360</td>\n",
              "      <td>89.63</td>\n",
              "      <td>67</td>\n",
              "      <td>22807</td>\n",
              "      <td>45</td>\n",
              "      <td>1497</td>\n",
              "      <td>24-08-85</td>\n",
              "      <td>Self employed</td>\n",
              "      <td>...</td>\n",
              "      <td>0</td>\n",
              "      <td>0</td>\n",
              "      <td>0</td>\n",
              "      <td>0</td>\n",
              "      <td>0</td>\n",
              "      <td>0</td>\n",
              "      <td>0yrs 0mon</td>\n",
              "      <td>0yrs 0mon</td>\n",
              "      <td>0</td>\n",
              "      <td>0</td>\n",
              "    </tr>\n",
              "    <tr>\n",
              "      <th>3</th>\n",
              "      <td>624493</td>\n",
              "      <td>57513</td>\n",
              "      <td>66113</td>\n",
              "      <td>88.48</td>\n",
              "      <td>67</td>\n",
              "      <td>22807</td>\n",
              "      <td>45</td>\n",
              "      <td>1501</td>\n",
              "      <td>30-12-93</td>\n",
              "      <td>Self employed</td>\n",
              "      <td>...</td>\n",
              "      <td>0</td>\n",
              "      <td>0</td>\n",
              "      <td>31</td>\n",
              "      <td>0</td>\n",
              "      <td>0</td>\n",
              "      <td>0</td>\n",
              "      <td>0yrs 8mon</td>\n",
              "      <td>1yrs 3mon</td>\n",
              "      <td>1</td>\n",
              "      <td>1</td>\n",
              "    </tr>\n",
              "    <tr>\n",
              "      <th>4</th>\n",
              "      <td>539055</td>\n",
              "      <td>52378</td>\n",
              "      <td>60300</td>\n",
              "      <td>88.39</td>\n",
              "      <td>67</td>\n",
              "      <td>22807</td>\n",
              "      <td>45</td>\n",
              "      <td>1495</td>\n",
              "      <td>09-12-77</td>\n",
              "      <td>Self employed</td>\n",
              "      <td>...</td>\n",
              "      <td>0</td>\n",
              "      <td>0</td>\n",
              "      <td>0</td>\n",
              "      <td>0</td>\n",
              "      <td>0</td>\n",
              "      <td>0</td>\n",
              "      <td>0yrs 0mon</td>\n",
              "      <td>0yrs 0mon</td>\n",
              "      <td>1</td>\n",
              "      <td>1</td>\n",
              "    </tr>\n",
              "  </tbody>\n",
              "</table>\n",
              "<p>5 rows × 41 columns</p>\n",
              "</div>"
            ],
            "text/plain": [
              "   UniqueID  disbursed_amount  asset_cost    ltv  branch_id  supplier_id  \\\n",
              "0    420825             50578       58400  89.55         67        22807   \n",
              "1    537409             47145       65550  73.23         67        22807   \n",
              "2    417566             53278       61360  89.63         67        22807   \n",
              "3    624493             57513       66113  88.48         67        22807   \n",
              "4    539055             52378       60300  88.39         67        22807   \n",
              "\n",
              "   manufacturer_id  Current_pincode_ID Date.of.Birth Employment.Type  ...  \\\n",
              "0               45                1441      01-01-84        Salaried  ...   \n",
              "1               45                1502      31-07-85   Self employed  ...   \n",
              "2               45                1497      24-08-85   Self employed  ...   \n",
              "3               45                1501      30-12-93   Self employed  ...   \n",
              "4               45                1495      09-12-77   Self employed  ...   \n",
              "\n",
              "  SEC.SANCTIONED.AMOUNT  SEC.DISBURSED.AMOUNT  PRIMARY.INSTAL.AMT  \\\n",
              "0                     0                     0                   0   \n",
              "1                     0                     0                1991   \n",
              "2                     0                     0                   0   \n",
              "3                     0                     0                  31   \n",
              "4                     0                     0                   0   \n",
              "\n",
              "   SEC.INSTAL.AMT  NEW.ACCTS.IN.LAST.SIX.MONTHS  \\\n",
              "0               0                             0   \n",
              "1               0                             0   \n",
              "2               0                             0   \n",
              "3               0                             0   \n",
              "4               0                             0   \n",
              "\n",
              "   DELINQUENT.ACCTS.IN.LAST.SIX.MONTHS  AVERAGE.ACCT.AGE  \\\n",
              "0                                    0         0yrs 0mon   \n",
              "1                                    1        1yrs 11mon   \n",
              "2                                    0         0yrs 0mon   \n",
              "3                                    0         0yrs 8mon   \n",
              "4                                    0         0yrs 0mon   \n",
              "\n",
              "   CREDIT.HISTORY.LENGTH  NO.OF_INQUIRIES  loan_default  \n",
              "0              0yrs 0mon                0             0  \n",
              "1             1yrs 11mon                0             1  \n",
              "2              0yrs 0mon                0             0  \n",
              "3              1yrs 3mon                1             1  \n",
              "4              0yrs 0mon                1             1  \n",
              "\n",
              "[5 rows x 41 columns]"
            ]
          },
          "metadata": {
            "tags": []
          },
          "execution_count": 5
        }
      ]
    },
    {
      "metadata": {
        "id": "DznBvtWESGcZ",
        "colab_type": "code",
        "outputId": "ad1662ba-70d0-4801-f7f1-f57775d2cf9b",
        "colab": {
          "base_uri": "https://localhost:8080/",
          "height": 34
        }
      },
      "cell_type": "code",
      "source": [
        "#pdf = pd.concat([train, test], ignore_index=True)\n",
        "df.shape"
      ],
      "execution_count": 0,
      "outputs": [
        {
          "output_type": "execute_result",
          "data": {
            "text/plain": [
              "(233154, 41)"
            ]
          },
          "metadata": {
            "tags": []
          },
          "execution_count": 6
        }
      ]
    },
    {
      "metadata": {
        "id": "zGSX0Y8UkKgv",
        "colab_type": "code",
        "outputId": "d4bb730e-8ccb-42c7-cebb-cce47a8ae9f8",
        "colab": {
          "base_uri": "https://localhost:8080/",
          "height": 246
        }
      },
      "cell_type": "code",
      "source": [
        "#df=df.dropna()\n",
        "df.head()"
      ],
      "execution_count": 0,
      "outputs": [
        {
          "output_type": "execute_result",
          "data": {
            "text/html": [
              "<div>\n",
              "<style scoped>\n",
              "    .dataframe tbody tr th:only-of-type {\n",
              "        vertical-align: middle;\n",
              "    }\n",
              "\n",
              "    .dataframe tbody tr th {\n",
              "        vertical-align: top;\n",
              "    }\n",
              "\n",
              "    .dataframe thead th {\n",
              "        text-align: right;\n",
              "    }\n",
              "</style>\n",
              "<table border=\"1\" class=\"dataframe\">\n",
              "  <thead>\n",
              "    <tr style=\"text-align: right;\">\n",
              "      <th></th>\n",
              "      <th>UniqueID</th>\n",
              "      <th>disbursed_amount</th>\n",
              "      <th>asset_cost</th>\n",
              "      <th>ltv</th>\n",
              "      <th>branch_id</th>\n",
              "      <th>supplier_id</th>\n",
              "      <th>manufacturer_id</th>\n",
              "      <th>Current_pincode_ID</th>\n",
              "      <th>Date.of.Birth</th>\n",
              "      <th>Employment.Type</th>\n",
              "      <th>...</th>\n",
              "      <th>SEC.SANCTIONED.AMOUNT</th>\n",
              "      <th>SEC.DISBURSED.AMOUNT</th>\n",
              "      <th>PRIMARY.INSTAL.AMT</th>\n",
              "      <th>SEC.INSTAL.AMT</th>\n",
              "      <th>NEW.ACCTS.IN.LAST.SIX.MONTHS</th>\n",
              "      <th>DELINQUENT.ACCTS.IN.LAST.SIX.MONTHS</th>\n",
              "      <th>AVERAGE.ACCT.AGE</th>\n",
              "      <th>CREDIT.HISTORY.LENGTH</th>\n",
              "      <th>NO.OF_INQUIRIES</th>\n",
              "      <th>loan_default</th>\n",
              "    </tr>\n",
              "  </thead>\n",
              "  <tbody>\n",
              "    <tr>\n",
              "      <th>0</th>\n",
              "      <td>420825</td>\n",
              "      <td>50578</td>\n",
              "      <td>58400</td>\n",
              "      <td>89.55</td>\n",
              "      <td>67</td>\n",
              "      <td>22807</td>\n",
              "      <td>45</td>\n",
              "      <td>1441</td>\n",
              "      <td>01-01-84</td>\n",
              "      <td>Salaried</td>\n",
              "      <td>...</td>\n",
              "      <td>0</td>\n",
              "      <td>0</td>\n",
              "      <td>0</td>\n",
              "      <td>0</td>\n",
              "      <td>0</td>\n",
              "      <td>0</td>\n",
              "      <td>0yrs 0mon</td>\n",
              "      <td>0yrs 0mon</td>\n",
              "      <td>0</td>\n",
              "      <td>0</td>\n",
              "    </tr>\n",
              "    <tr>\n",
              "      <th>1</th>\n",
              "      <td>537409</td>\n",
              "      <td>47145</td>\n",
              "      <td>65550</td>\n",
              "      <td>73.23</td>\n",
              "      <td>67</td>\n",
              "      <td>22807</td>\n",
              "      <td>45</td>\n",
              "      <td>1502</td>\n",
              "      <td>31-07-85</td>\n",
              "      <td>Self employed</td>\n",
              "      <td>...</td>\n",
              "      <td>0</td>\n",
              "      <td>0</td>\n",
              "      <td>1991</td>\n",
              "      <td>0</td>\n",
              "      <td>0</td>\n",
              "      <td>1</td>\n",
              "      <td>1yrs 11mon</td>\n",
              "      <td>1yrs 11mon</td>\n",
              "      <td>0</td>\n",
              "      <td>1</td>\n",
              "    </tr>\n",
              "    <tr>\n",
              "      <th>2</th>\n",
              "      <td>417566</td>\n",
              "      <td>53278</td>\n",
              "      <td>61360</td>\n",
              "      <td>89.63</td>\n",
              "      <td>67</td>\n",
              "      <td>22807</td>\n",
              "      <td>45</td>\n",
              "      <td>1497</td>\n",
              "      <td>24-08-85</td>\n",
              "      <td>Self employed</td>\n",
              "      <td>...</td>\n",
              "      <td>0</td>\n",
              "      <td>0</td>\n",
              "      <td>0</td>\n",
              "      <td>0</td>\n",
              "      <td>0</td>\n",
              "      <td>0</td>\n",
              "      <td>0yrs 0mon</td>\n",
              "      <td>0yrs 0mon</td>\n",
              "      <td>0</td>\n",
              "      <td>0</td>\n",
              "    </tr>\n",
              "    <tr>\n",
              "      <th>3</th>\n",
              "      <td>624493</td>\n",
              "      <td>57513</td>\n",
              "      <td>66113</td>\n",
              "      <td>88.48</td>\n",
              "      <td>67</td>\n",
              "      <td>22807</td>\n",
              "      <td>45</td>\n",
              "      <td>1501</td>\n",
              "      <td>30-12-93</td>\n",
              "      <td>Self employed</td>\n",
              "      <td>...</td>\n",
              "      <td>0</td>\n",
              "      <td>0</td>\n",
              "      <td>31</td>\n",
              "      <td>0</td>\n",
              "      <td>0</td>\n",
              "      <td>0</td>\n",
              "      <td>0yrs 8mon</td>\n",
              "      <td>1yrs 3mon</td>\n",
              "      <td>1</td>\n",
              "      <td>1</td>\n",
              "    </tr>\n",
              "    <tr>\n",
              "      <th>4</th>\n",
              "      <td>539055</td>\n",
              "      <td>52378</td>\n",
              "      <td>60300</td>\n",
              "      <td>88.39</td>\n",
              "      <td>67</td>\n",
              "      <td>22807</td>\n",
              "      <td>45</td>\n",
              "      <td>1495</td>\n",
              "      <td>09-12-77</td>\n",
              "      <td>Self employed</td>\n",
              "      <td>...</td>\n",
              "      <td>0</td>\n",
              "      <td>0</td>\n",
              "      <td>0</td>\n",
              "      <td>0</td>\n",
              "      <td>0</td>\n",
              "      <td>0</td>\n",
              "      <td>0yrs 0mon</td>\n",
              "      <td>0yrs 0mon</td>\n",
              "      <td>1</td>\n",
              "      <td>1</td>\n",
              "    </tr>\n",
              "  </tbody>\n",
              "</table>\n",
              "<p>5 rows × 41 columns</p>\n",
              "</div>"
            ],
            "text/plain": [
              "   UniqueID  disbursed_amount  asset_cost    ltv  branch_id  supplier_id  \\\n",
              "0    420825             50578       58400  89.55         67        22807   \n",
              "1    537409             47145       65550  73.23         67        22807   \n",
              "2    417566             53278       61360  89.63         67        22807   \n",
              "3    624493             57513       66113  88.48         67        22807   \n",
              "4    539055             52378       60300  88.39         67        22807   \n",
              "\n",
              "   manufacturer_id  Current_pincode_ID Date.of.Birth Employment.Type  ...  \\\n",
              "0               45                1441      01-01-84        Salaried  ...   \n",
              "1               45                1502      31-07-85   Self employed  ...   \n",
              "2               45                1497      24-08-85   Self employed  ...   \n",
              "3               45                1501      30-12-93   Self employed  ...   \n",
              "4               45                1495      09-12-77   Self employed  ...   \n",
              "\n",
              "  SEC.SANCTIONED.AMOUNT  SEC.DISBURSED.AMOUNT  PRIMARY.INSTAL.AMT  \\\n",
              "0                     0                     0                   0   \n",
              "1                     0                     0                1991   \n",
              "2                     0                     0                   0   \n",
              "3                     0                     0                  31   \n",
              "4                     0                     0                   0   \n",
              "\n",
              "   SEC.INSTAL.AMT  NEW.ACCTS.IN.LAST.SIX.MONTHS  \\\n",
              "0               0                             0   \n",
              "1               0                             0   \n",
              "2               0                             0   \n",
              "3               0                             0   \n",
              "4               0                             0   \n",
              "\n",
              "   DELINQUENT.ACCTS.IN.LAST.SIX.MONTHS  AVERAGE.ACCT.AGE  \\\n",
              "0                                    0         0yrs 0mon   \n",
              "1                                    1        1yrs 11mon   \n",
              "2                                    0         0yrs 0mon   \n",
              "3                                    0         0yrs 8mon   \n",
              "4                                    0         0yrs 0mon   \n",
              "\n",
              "   CREDIT.HISTORY.LENGTH  NO.OF_INQUIRIES  loan_default  \n",
              "0              0yrs 0mon                0             0  \n",
              "1             1yrs 11mon                0             1  \n",
              "2              0yrs 0mon                0             0  \n",
              "3              1yrs 3mon                1             1  \n",
              "4              0yrs 0mon                1             1  \n",
              "\n",
              "[5 rows x 41 columns]"
            ]
          },
          "metadata": {
            "tags": []
          },
          "execution_count": 7
        }
      ]
    },
    {
      "metadata": {
        "id": "sbpi16QQUnqg",
        "colab_type": "code",
        "colab": {}
      },
      "cell_type": "code",
      "source": [
        "pd.set_option('display.max_columns', 111)"
      ],
      "execution_count": 0,
      "outputs": []
    },
    {
      "metadata": {
        "id": "zdOMnKXmojzT",
        "colab_type": "code",
        "outputId": "79d3b537-b63b-4ae9-f43d-47ec708186d3",
        "colab": {
          "base_uri": "https://localhost:8080/",
          "height": 34
        }
      },
      "cell_type": "code",
      "source": [
        "df.shape"
      ],
      "execution_count": 0,
      "outputs": [
        {
          "output_type": "execute_result",
          "data": {
            "text/plain": [
              "(233154, 41)"
            ]
          },
          "metadata": {
            "tags": []
          },
          "execution_count": 9
        }
      ]
    },
    {
      "metadata": {
        "id": "i9r_7hlNhnhk",
        "colab_type": "code",
        "outputId": "8cf1521b-339f-467f-92ee-d49d986f269d",
        "colab": {
          "base_uri": "https://localhost:8080/",
          "height": 763
        }
      },
      "cell_type": "code",
      "source": [
        "#To check missing values\n",
        "df.isnull().sum()"
      ],
      "execution_count": 0,
      "outputs": [
        {
          "output_type": "execute_result",
          "data": {
            "text/plain": [
              "UniqueID                                  0\n",
              "disbursed_amount                          0\n",
              "asset_cost                                0\n",
              "ltv                                       0\n",
              "branch_id                                 0\n",
              "supplier_id                               0\n",
              "manufacturer_id                           0\n",
              "Current_pincode_ID                        0\n",
              "Date.of.Birth                             0\n",
              "Employment.Type                        7661\n",
              "DisbursalDate                             0\n",
              "State_ID                                  0\n",
              "Employee_code_ID                          0\n",
              "MobileNo_Avl_Flag                         0\n",
              "Aadhar_flag                               0\n",
              "PAN_flag                                  0\n",
              "VoterID_flag                              0\n",
              "Driving_flag                              0\n",
              "Passport_flag                             0\n",
              "PERFORM_CNS.SCORE                         0\n",
              "PERFORM_CNS.SCORE.DESCRIPTION             0\n",
              "PRI.NO.OF.ACCTS                           0\n",
              "PRI.ACTIVE.ACCTS                          0\n",
              "PRI.OVERDUE.ACCTS                         0\n",
              "PRI.CURRENT.BALANCE                       0\n",
              "PRI.SANCTIONED.AMOUNT                     0\n",
              "PRI.DISBURSED.AMOUNT                      0\n",
              "SEC.NO.OF.ACCTS                           0\n",
              "SEC.ACTIVE.ACCTS                          0\n",
              "SEC.OVERDUE.ACCTS                         0\n",
              "SEC.CURRENT.BALANCE                       0\n",
              "SEC.SANCTIONED.AMOUNT                     0\n",
              "SEC.DISBURSED.AMOUNT                      0\n",
              "PRIMARY.INSTAL.AMT                        0\n",
              "SEC.INSTAL.AMT                            0\n",
              "NEW.ACCTS.IN.LAST.SIX.MONTHS              0\n",
              "DELINQUENT.ACCTS.IN.LAST.SIX.MONTHS       0\n",
              "AVERAGE.ACCT.AGE                          0\n",
              "CREDIT.HISTORY.LENGTH                     0\n",
              "NO.OF_INQUIRIES                           0\n",
              "loan_default                              0\n",
              "dtype: int64"
            ]
          },
          "metadata": {
            "tags": []
          },
          "execution_count": 10
        }
      ]
    },
    {
      "metadata": {
        "id": "WNkMyVloh7c3",
        "colab_type": "code",
        "outputId": "3da5cd3d-f49f-4457-dbee-257c3e475eb7",
        "colab": {
          "base_uri": "https://localhost:8080/",
          "height": 34
        }
      },
      "cell_type": "code",
      "source": [
        "#Shape of data\n",
        "df.shape"
      ],
      "execution_count": 0,
      "outputs": [
        {
          "output_type": "execute_result",
          "data": {
            "text/plain": [
              "(233154, 41)"
            ]
          },
          "metadata": {
            "tags": []
          },
          "execution_count": 11
        }
      ]
    },
    {
      "metadata": {
        "id": "WM2feUzWnoZK",
        "colab_type": "code",
        "colab": {}
      },
      "cell_type": "code",
      "source": [
        "#to change the type and format of date of birth from object to datetime \n",
        "from datetime import datetime\n",
        "\n",
        "def try_parsing_date(text):\n",
        "    for fmt in ('%d-%m-%y', '%d/%m/%Y'):\n",
        "        try:\n",
        "            return datetime.strptime(text, fmt)\n",
        "        except ValueError:\n",
        "            pass\n",
        "    raise ValueError('no valid date format found')\n",
        "\n",
        "dob=[]\n",
        "for i in df[\"Date.of.Birth\"]:\n",
        "    dob.append(try_parsing_date(i))\n",
        "\n",
        "df[\"Date.of.Birth\"]=dob\n"
      ],
      "execution_count": 0,
      "outputs": []
    },
    {
      "metadata": {
        "id": "zPCpw_7p6s16",
        "colab_type": "code",
        "outputId": "51a12b0f-7c47-4821-cad3-34230f4be4b2",
        "colab": {
          "base_uri": "https://localhost:8080/",
          "height": 123
        }
      },
      "cell_type": "code",
      "source": [
        "df[\"Date.of.Birth\"].head()"
      ],
      "execution_count": 0,
      "outputs": [
        {
          "output_type": "execute_result",
          "data": {
            "text/plain": [
              "0   1984-01-01\n",
              "1   1985-07-31\n",
              "2   1985-08-24\n",
              "3   1993-12-30\n",
              "4   1977-12-09\n",
              "Name: Date.of.Birth, dtype: datetime64[ns]"
            ]
          },
          "metadata": {
            "tags": []
          },
          "execution_count": 13
        }
      ]
    },
    {
      "metadata": {
        "id": "09khy1qBnu9m",
        "colab_type": "code",
        "colab": {}
      },
      "cell_type": "code",
      "source": [
        "#calculating age and adding it as feature to data \n",
        "from datetime import date\n",
        "\n",
        "def calculate_age(born):\n",
        "    today = date.today()\n",
        "    return today.year - born.year \n",
        "\n",
        "age=[]\n",
        "for i in df[\"Date.of.Birth\"]:\n",
        "    if calculate_age(i)>0:\n",
        "        age.append(calculate_age(i))\n",
        "    else:\n",
        "        v=calculate_age(i)+100\n",
        "        age.append(v)\n",
        "\n",
        "df[\"Age\"]=age\n"
      ],
      "execution_count": 0,
      "outputs": []
    },
    {
      "metadata": {
        "id": "iefSi0G9n3ZJ",
        "colab_type": "code",
        "colab": {}
      },
      "cell_type": "code",
      "source": [
        "#changing the format and type of CREDIT.HISTORY.LENGTH column from object to float\n",
        "df[\"CREDIT.HISTORY.LENGTH\"].head()\n",
        "\n",
        "df[\"CREDIT.HISTORY.LENGTH\"] =df[\"CREDIT.HISTORY.LENGTH\"].str.replace(\"yrs\",\".\")\n",
        "df[\"CREDIT.HISTORY.LENGTH\"] = df[\"CREDIT.HISTORY.LENGTH\"].str.replace(\"mon\",\"\")\n",
        "\n",
        "df[\"CREDIT.HISTORY.LENGTH\"]= df[\"CREDIT.HISTORY.LENGTH\"].str.replace(' ', '')\n",
        "\n",
        "col=[]\n",
        "for i in df[\"CREDIT.HISTORY.LENGTH\"]:\n",
        "    col.append(float(str(i)))\n",
        "    \n",
        "\n",
        "df[\"CREDIT.HISTORY.LENGTH\"]=col\n"
      ],
      "execution_count": 0,
      "outputs": []
    },
    {
      "metadata": {
        "id": "RzCKZzRbkNUV",
        "colab_type": "code",
        "colab": {}
      },
      "cell_type": "code",
      "source": [
        "#changing the format and type of AVERAGE.ACCT.AGE column from object to float\n",
        "df[\"AVERAGE.ACCT.AGE\"].head()\n",
        "\n",
        "df[\"AVERAGE.ACCT.AGE\"] =df[\"AVERAGE.ACCT.AGE\"].str.replace(\"yrs\",\".\")\n",
        "df[\"AVERAGE.ACCT.AGE\"] = df[\"AVERAGE.ACCT.AGE\"].str.replace(\"mon\",\"\")\n",
        "\n",
        "df[\"AVERAGE.ACCT.AGE\"]= df[\"AVERAGE.ACCT.AGE\"].str.replace(' ', '')\n",
        "\n",
        "col=[]\n",
        "for i in df[\"AVERAGE.ACCT.AGE\"]:\n",
        "    col.append(float(str(i)))\n",
        "    \n",
        "\n",
        "df[\"AVERAGE.ACCT.AGE\"]=col\n"
      ],
      "execution_count": 0,
      "outputs": []
    },
    {
      "metadata": {
        "id": "5dnSkO2lNjsH",
        "colab_type": "code",
        "outputId": "f8f5819c-d543-470d-a6c4-d9f5a75fb96e",
        "colab": {
          "base_uri": "https://localhost:8080/",
          "height": 217
        }
      },
      "cell_type": "code",
      "source": [
        "df.head()"
      ],
      "execution_count": 0,
      "outputs": [
        {
          "output_type": "execute_result",
          "data": {
            "text/html": [
              "<div>\n",
              "<style scoped>\n",
              "    .dataframe tbody tr th:only-of-type {\n",
              "        vertical-align: middle;\n",
              "    }\n",
              "\n",
              "    .dataframe tbody tr th {\n",
              "        vertical-align: top;\n",
              "    }\n",
              "\n",
              "    .dataframe thead th {\n",
              "        text-align: right;\n",
              "    }\n",
              "</style>\n",
              "<table border=\"1\" class=\"dataframe\">\n",
              "  <thead>\n",
              "    <tr style=\"text-align: right;\">\n",
              "      <th></th>\n",
              "      <th>UniqueID</th>\n",
              "      <th>disbursed_amount</th>\n",
              "      <th>asset_cost</th>\n",
              "      <th>ltv</th>\n",
              "      <th>branch_id</th>\n",
              "      <th>supplier_id</th>\n",
              "      <th>manufacturer_id</th>\n",
              "      <th>Current_pincode_ID</th>\n",
              "      <th>Date.of.Birth</th>\n",
              "      <th>Employment.Type</th>\n",
              "      <th>DisbursalDate</th>\n",
              "      <th>State_ID</th>\n",
              "      <th>Employee_code_ID</th>\n",
              "      <th>MobileNo_Avl_Flag</th>\n",
              "      <th>Aadhar_flag</th>\n",
              "      <th>PAN_flag</th>\n",
              "      <th>VoterID_flag</th>\n",
              "      <th>Driving_flag</th>\n",
              "      <th>Passport_flag</th>\n",
              "      <th>PERFORM_CNS.SCORE</th>\n",
              "      <th>PERFORM_CNS.SCORE.DESCRIPTION</th>\n",
              "      <th>PRI.NO.OF.ACCTS</th>\n",
              "      <th>PRI.ACTIVE.ACCTS</th>\n",
              "      <th>PRI.OVERDUE.ACCTS</th>\n",
              "      <th>PRI.CURRENT.BALANCE</th>\n",
              "      <th>PRI.SANCTIONED.AMOUNT</th>\n",
              "      <th>PRI.DISBURSED.AMOUNT</th>\n",
              "      <th>SEC.NO.OF.ACCTS</th>\n",
              "      <th>SEC.ACTIVE.ACCTS</th>\n",
              "      <th>SEC.OVERDUE.ACCTS</th>\n",
              "      <th>SEC.CURRENT.BALANCE</th>\n",
              "      <th>SEC.SANCTIONED.AMOUNT</th>\n",
              "      <th>SEC.DISBURSED.AMOUNT</th>\n",
              "      <th>PRIMARY.INSTAL.AMT</th>\n",
              "      <th>SEC.INSTAL.AMT</th>\n",
              "      <th>NEW.ACCTS.IN.LAST.SIX.MONTHS</th>\n",
              "      <th>DELINQUENT.ACCTS.IN.LAST.SIX.MONTHS</th>\n",
              "      <th>AVERAGE.ACCT.AGE</th>\n",
              "      <th>CREDIT.HISTORY.LENGTH</th>\n",
              "      <th>NO.OF_INQUIRIES</th>\n",
              "      <th>loan_default</th>\n",
              "      <th>Age</th>\n",
              "    </tr>\n",
              "  </thead>\n",
              "  <tbody>\n",
              "    <tr>\n",
              "      <th>0</th>\n",
              "      <td>420825</td>\n",
              "      <td>50578</td>\n",
              "      <td>58400</td>\n",
              "      <td>89.55</td>\n",
              "      <td>67</td>\n",
              "      <td>22807</td>\n",
              "      <td>45</td>\n",
              "      <td>1441</td>\n",
              "      <td>1984-01-01</td>\n",
              "      <td>Salaried</td>\n",
              "      <td>03-08-18</td>\n",
              "      <td>6</td>\n",
              "      <td>1998</td>\n",
              "      <td>1</td>\n",
              "      <td>1</td>\n",
              "      <td>0</td>\n",
              "      <td>0</td>\n",
              "      <td>0</td>\n",
              "      <td>0</td>\n",
              "      <td>0</td>\n",
              "      <td>No Bureau History Available</td>\n",
              "      <td>0</td>\n",
              "      <td>0</td>\n",
              "      <td>0</td>\n",
              "      <td>0</td>\n",
              "      <td>0</td>\n",
              "      <td>0</td>\n",
              "      <td>0</td>\n",
              "      <td>0</td>\n",
              "      <td>0</td>\n",
              "      <td>0</td>\n",
              "      <td>0</td>\n",
              "      <td>0</td>\n",
              "      <td>0</td>\n",
              "      <td>0</td>\n",
              "      <td>0</td>\n",
              "      <td>0</td>\n",
              "      <td>0.00</td>\n",
              "      <td>0.00</td>\n",
              "      <td>0</td>\n",
              "      <td>0</td>\n",
              "      <td>35</td>\n",
              "    </tr>\n",
              "    <tr>\n",
              "      <th>1</th>\n",
              "      <td>537409</td>\n",
              "      <td>47145</td>\n",
              "      <td>65550</td>\n",
              "      <td>73.23</td>\n",
              "      <td>67</td>\n",
              "      <td>22807</td>\n",
              "      <td>45</td>\n",
              "      <td>1502</td>\n",
              "      <td>1985-07-31</td>\n",
              "      <td>Self employed</td>\n",
              "      <td>26-09-18</td>\n",
              "      <td>6</td>\n",
              "      <td>1998</td>\n",
              "      <td>1</td>\n",
              "      <td>1</td>\n",
              "      <td>0</td>\n",
              "      <td>0</td>\n",
              "      <td>0</td>\n",
              "      <td>0</td>\n",
              "      <td>598</td>\n",
              "      <td>I-Medium Risk</td>\n",
              "      <td>1</td>\n",
              "      <td>1</td>\n",
              "      <td>1</td>\n",
              "      <td>27600</td>\n",
              "      <td>50200</td>\n",
              "      <td>50200</td>\n",
              "      <td>0</td>\n",
              "      <td>0</td>\n",
              "      <td>0</td>\n",
              "      <td>0</td>\n",
              "      <td>0</td>\n",
              "      <td>0</td>\n",
              "      <td>1991</td>\n",
              "      <td>0</td>\n",
              "      <td>0</td>\n",
              "      <td>1</td>\n",
              "      <td>1.11</td>\n",
              "      <td>1.11</td>\n",
              "      <td>0</td>\n",
              "      <td>1</td>\n",
              "      <td>34</td>\n",
              "    </tr>\n",
              "    <tr>\n",
              "      <th>2</th>\n",
              "      <td>417566</td>\n",
              "      <td>53278</td>\n",
              "      <td>61360</td>\n",
              "      <td>89.63</td>\n",
              "      <td>67</td>\n",
              "      <td>22807</td>\n",
              "      <td>45</td>\n",
              "      <td>1497</td>\n",
              "      <td>1985-08-24</td>\n",
              "      <td>Self employed</td>\n",
              "      <td>01-08-18</td>\n",
              "      <td>6</td>\n",
              "      <td>1998</td>\n",
              "      <td>1</td>\n",
              "      <td>1</td>\n",
              "      <td>0</td>\n",
              "      <td>0</td>\n",
              "      <td>0</td>\n",
              "      <td>0</td>\n",
              "      <td>0</td>\n",
              "      <td>No Bureau History Available</td>\n",
              "      <td>0</td>\n",
              "      <td>0</td>\n",
              "      <td>0</td>\n",
              "      <td>0</td>\n",
              "      <td>0</td>\n",
              "      <td>0</td>\n",
              "      <td>0</td>\n",
              "      <td>0</td>\n",
              "      <td>0</td>\n",
              "      <td>0</td>\n",
              "      <td>0</td>\n",
              "      <td>0</td>\n",
              "      <td>0</td>\n",
              "      <td>0</td>\n",
              "      <td>0</td>\n",
              "      <td>0</td>\n",
              "      <td>0.00</td>\n",
              "      <td>0.00</td>\n",
              "      <td>0</td>\n",
              "      <td>0</td>\n",
              "      <td>34</td>\n",
              "    </tr>\n",
              "    <tr>\n",
              "      <th>3</th>\n",
              "      <td>624493</td>\n",
              "      <td>57513</td>\n",
              "      <td>66113</td>\n",
              "      <td>88.48</td>\n",
              "      <td>67</td>\n",
              "      <td>22807</td>\n",
              "      <td>45</td>\n",
              "      <td>1501</td>\n",
              "      <td>1993-12-30</td>\n",
              "      <td>Self employed</td>\n",
              "      <td>26-10-18</td>\n",
              "      <td>6</td>\n",
              "      <td>1998</td>\n",
              "      <td>1</td>\n",
              "      <td>1</td>\n",
              "      <td>0</td>\n",
              "      <td>0</td>\n",
              "      <td>0</td>\n",
              "      <td>0</td>\n",
              "      <td>305</td>\n",
              "      <td>L-Very High Risk</td>\n",
              "      <td>3</td>\n",
              "      <td>0</td>\n",
              "      <td>0</td>\n",
              "      <td>0</td>\n",
              "      <td>0</td>\n",
              "      <td>0</td>\n",
              "      <td>0</td>\n",
              "      <td>0</td>\n",
              "      <td>0</td>\n",
              "      <td>0</td>\n",
              "      <td>0</td>\n",
              "      <td>0</td>\n",
              "      <td>31</td>\n",
              "      <td>0</td>\n",
              "      <td>0</td>\n",
              "      <td>0</td>\n",
              "      <td>0.80</td>\n",
              "      <td>1.30</td>\n",
              "      <td>1</td>\n",
              "      <td>1</td>\n",
              "      <td>26</td>\n",
              "    </tr>\n",
              "    <tr>\n",
              "      <th>4</th>\n",
              "      <td>539055</td>\n",
              "      <td>52378</td>\n",
              "      <td>60300</td>\n",
              "      <td>88.39</td>\n",
              "      <td>67</td>\n",
              "      <td>22807</td>\n",
              "      <td>45</td>\n",
              "      <td>1495</td>\n",
              "      <td>1977-12-09</td>\n",
              "      <td>Self employed</td>\n",
              "      <td>26-09-18</td>\n",
              "      <td>6</td>\n",
              "      <td>1998</td>\n",
              "      <td>1</td>\n",
              "      <td>1</td>\n",
              "      <td>0</td>\n",
              "      <td>0</td>\n",
              "      <td>0</td>\n",
              "      <td>0</td>\n",
              "      <td>0</td>\n",
              "      <td>No Bureau History Available</td>\n",
              "      <td>0</td>\n",
              "      <td>0</td>\n",
              "      <td>0</td>\n",
              "      <td>0</td>\n",
              "      <td>0</td>\n",
              "      <td>0</td>\n",
              "      <td>0</td>\n",
              "      <td>0</td>\n",
              "      <td>0</td>\n",
              "      <td>0</td>\n",
              "      <td>0</td>\n",
              "      <td>0</td>\n",
              "      <td>0</td>\n",
              "      <td>0</td>\n",
              "      <td>0</td>\n",
              "      <td>0</td>\n",
              "      <td>0.00</td>\n",
              "      <td>0.00</td>\n",
              "      <td>1</td>\n",
              "      <td>1</td>\n",
              "      <td>42</td>\n",
              "    </tr>\n",
              "  </tbody>\n",
              "</table>\n",
              "</div>"
            ],
            "text/plain": [
              "   UniqueID  disbursed_amount  asset_cost    ltv  branch_id  supplier_id  \\\n",
              "0    420825             50578       58400  89.55         67        22807   \n",
              "1    537409             47145       65550  73.23         67        22807   \n",
              "2    417566             53278       61360  89.63         67        22807   \n",
              "3    624493             57513       66113  88.48         67        22807   \n",
              "4    539055             52378       60300  88.39         67        22807   \n",
              "\n",
              "   manufacturer_id  Current_pincode_ID Date.of.Birth Employment.Type  \\\n",
              "0               45                1441    1984-01-01        Salaried   \n",
              "1               45                1502    1985-07-31   Self employed   \n",
              "2               45                1497    1985-08-24   Self employed   \n",
              "3               45                1501    1993-12-30   Self employed   \n",
              "4               45                1495    1977-12-09   Self employed   \n",
              "\n",
              "  DisbursalDate  State_ID  Employee_code_ID  MobileNo_Avl_Flag  Aadhar_flag  \\\n",
              "0      03-08-18         6              1998                  1            1   \n",
              "1      26-09-18         6              1998                  1            1   \n",
              "2      01-08-18         6              1998                  1            1   \n",
              "3      26-10-18         6              1998                  1            1   \n",
              "4      26-09-18         6              1998                  1            1   \n",
              "\n",
              "   PAN_flag  VoterID_flag  Driving_flag  Passport_flag  PERFORM_CNS.SCORE  \\\n",
              "0         0             0             0              0                  0   \n",
              "1         0             0             0              0                598   \n",
              "2         0             0             0              0                  0   \n",
              "3         0             0             0              0                305   \n",
              "4         0             0             0              0                  0   \n",
              "\n",
              "  PERFORM_CNS.SCORE.DESCRIPTION  PRI.NO.OF.ACCTS  PRI.ACTIVE.ACCTS  \\\n",
              "0   No Bureau History Available                0                 0   \n",
              "1                 I-Medium Risk                1                 1   \n",
              "2   No Bureau History Available                0                 0   \n",
              "3              L-Very High Risk                3                 0   \n",
              "4   No Bureau History Available                0                 0   \n",
              "\n",
              "   PRI.OVERDUE.ACCTS  PRI.CURRENT.BALANCE  PRI.SANCTIONED.AMOUNT  \\\n",
              "0                  0                    0                      0   \n",
              "1                  1                27600                  50200   \n",
              "2                  0                    0                      0   \n",
              "3                  0                    0                      0   \n",
              "4                  0                    0                      0   \n",
              "\n",
              "   PRI.DISBURSED.AMOUNT  SEC.NO.OF.ACCTS  SEC.ACTIVE.ACCTS  SEC.OVERDUE.ACCTS  \\\n",
              "0                     0                0                 0                  0   \n",
              "1                 50200                0                 0                  0   \n",
              "2                     0                0                 0                  0   \n",
              "3                     0                0                 0                  0   \n",
              "4                     0                0                 0                  0   \n",
              "\n",
              "   SEC.CURRENT.BALANCE  SEC.SANCTIONED.AMOUNT  SEC.DISBURSED.AMOUNT  \\\n",
              "0                    0                      0                     0   \n",
              "1                    0                      0                     0   \n",
              "2                    0                      0                     0   \n",
              "3                    0                      0                     0   \n",
              "4                    0                      0                     0   \n",
              "\n",
              "   PRIMARY.INSTAL.AMT  SEC.INSTAL.AMT  NEW.ACCTS.IN.LAST.SIX.MONTHS  \\\n",
              "0                   0               0                             0   \n",
              "1                1991               0                             0   \n",
              "2                   0               0                             0   \n",
              "3                  31               0                             0   \n",
              "4                   0               0                             0   \n",
              "\n",
              "   DELINQUENT.ACCTS.IN.LAST.SIX.MONTHS  AVERAGE.ACCT.AGE  \\\n",
              "0                                    0              0.00   \n",
              "1                                    1              1.11   \n",
              "2                                    0              0.00   \n",
              "3                                    0              0.80   \n",
              "4                                    0              0.00   \n",
              "\n",
              "   CREDIT.HISTORY.LENGTH  NO.OF_INQUIRIES  loan_default  Age  \n",
              "0                   0.00                0             0   35  \n",
              "1                   1.11                0             1   34  \n",
              "2                   0.00                0             0   34  \n",
              "3                   1.30                1             1   26  \n",
              "4                   0.00                1             1   42  "
            ]
          },
          "metadata": {
            "tags": []
          },
          "execution_count": 17
        }
      ]
    },
    {
      "metadata": {
        "id": "JGi2plUQNP42",
        "colab_type": "code",
        "colab": {}
      },
      "cell_type": "code",
      "source": [
        "df['PERFORM_CNS.SCORE.DESCRIPTION']=df['PERFORM_CNS.SCORE.DESCRIPTION'].apply(lambda x: 0 if (x=='No Bureau History Available') else x )\n",
        "df['PERFORM_CNS.SCORE.DESCRIPTION']=df['PERFORM_CNS.SCORE.DESCRIPTION'].apply(lambda x: 0 if (x=='Not Scored: Sufficient History Not Available') else x )\n",
        "df['PERFORM_CNS.SCORE.DESCRIPTION']=df['PERFORM_CNS.SCORE.DESCRIPTION'].apply(lambda x: 0 if (x=='Not Scored: Not Enough Info available on the customer') else x )\n",
        "df['PERFORM_CNS.SCORE.DESCRIPTION']=df['PERFORM_CNS.SCORE.DESCRIPTION'].apply(lambda x: 0 if (x=='Not Scored: No Activity seen on the customer (Inactive)') else x )\n",
        "df['PERFORM_CNS.SCORE.DESCRIPTION']=df['PERFORM_CNS.SCORE.DESCRIPTION'].apply(lambda x: 0 if (x=='Not Scored: Only a Guarantor') else x )\n",
        "df['PERFORM_CNS.SCORE.DESCRIPTION']=df['PERFORM_CNS.SCORE.DESCRIPTION'].apply(lambda x: 0 if (x=='Not Scored: More than 50 active Accounts found') else x )\n",
        "df['PERFORM_CNS.SCORE.DESCRIPTION']=df['PERFORM_CNS.SCORE.DESCRIPTION'].apply(lambda x: 0 if (x=='Not Scored: No Updates available in last 36 months') else x )\n",
        "df['PERFORM_CNS.SCORE.DESCRIPTION']=df['PERFORM_CNS.SCORE.DESCRIPTION'].apply(lambda x: 1 if (x=='A-Very Low Risk') else x )\n",
        "df['PERFORM_CNS.SCORE.DESCRIPTION']=df['PERFORM_CNS.SCORE.DESCRIPTION'].apply(lambda x: 1 if (x=='B-Very Low Risk') else x )\n",
        "df['PERFORM_CNS.SCORE.DESCRIPTION']=df['PERFORM_CNS.SCORE.DESCRIPTION'].apply(lambda x: 1 if (x=='C-Very Low Risk') else x )\n",
        "df['PERFORM_CNS.SCORE.DESCRIPTION']=df['PERFORM_CNS.SCORE.DESCRIPTION'].apply(lambda x: 1 if (x=='D-Very Low Risk') else x )\n",
        "df['PERFORM_CNS.SCORE.DESCRIPTION']=df['PERFORM_CNS.SCORE.DESCRIPTION'].apply(lambda x: 2 if (x=='E-Low Risk') else x )\n",
        "df['PERFORM_CNS.SCORE.DESCRIPTION']=df['PERFORM_CNS.SCORE.DESCRIPTION'].apply(lambda x: 2 if (x=='F-Low Risk') else x )\n",
        "df['PERFORM_CNS.SCORE.DESCRIPTION']=df['PERFORM_CNS.SCORE.DESCRIPTION'].apply(lambda x: 2 if (x=='G-Low Risk') else x )\n",
        "df['PERFORM_CNS.SCORE.DESCRIPTION']=df['PERFORM_CNS.SCORE.DESCRIPTION'].apply(lambda x: 3 if (x=='H-Medium Risk') else x )\n",
        "df['PERFORM_CNS.SCORE.DESCRIPTION']=df['PERFORM_CNS.SCORE.DESCRIPTION'].apply(lambda x: 3 if (x=='I-Medium Risk') else x )\n",
        "df['PERFORM_CNS.SCORE.DESCRIPTION']=df['PERFORM_CNS.SCORE.DESCRIPTION'].apply(lambda x: 4 if (x=='J-High Risk') else x )\n",
        "df['PERFORM_CNS.SCORE.DESCRIPTION']=df['PERFORM_CNS.SCORE.DESCRIPTION'].apply(lambda x: 4 if (x=='K-High Risk') else x )\n",
        "df['PERFORM_CNS.SCORE.DESCRIPTION']=df['PERFORM_CNS.SCORE.DESCRIPTION'].apply(lambda x: 5 if (x=='L-Very High Risk') else x )\n",
        "df['PERFORM_CNS.SCORE.DESCRIPTION']=df['PERFORM_CNS.SCORE.DESCRIPTION'].apply(lambda x: 5 if (x=='M-Very High Risk') else x )\n",
        "\n",
        "\n"
      ],
      "execution_count": 0,
      "outputs": []
    },
    {
      "metadata": {
        "id": "aaAu5RlqP0pk",
        "colab_type": "code",
        "outputId": "5411805a-88c8-4b6d-fc76-9d2858739aff",
        "colab": {
          "base_uri": "https://localhost:8080/",
          "height": 602
        }
      },
      "cell_type": "code",
      "source": [
        "size = [187429, 147013, 11104]\n",
        "colors = ['pink', 'lightblue', 'lightgreen']\n",
        "labels = \"Self Employed\", \"Salried\", \"Unemployed\" \n",
        "explode = [0.05, 0.05, 0.05]\n",
        "\n",
        "circle = plt.Circle((0, 0), 0.7, color = 'white')\n",
        "\n",
        "plt.rcParams['figure.figsize'] = (10, 10)\n",
        "plt.pie(size, colors = colors, labels = labels, explode = explode, shadow = True, pctdistance = 1, autopct = '%.2f%%')\n",
        "plt.title('Types of Employments', fontsize = 30)\n",
        "plt.axis('off')\n",
        "p = plt.gcf()\n",
        "p.gca().add_artist(circle)\n",
        "plt.legend()\n",
        "plt.show()"
      ],
      "execution_count": 0,
      "outputs": [
        {
          "output_type": "display_data",
          "data": {
            "image/png": "[encoded data removed]",
            "text/plain": [
              "<Figure size 720x720 with 1 Axes>"
            ]
          },
          "metadata": {
            "tags": []
          }
        }
      ]
    },
    {
      "metadata": {
        "id": "mTDAaKD0n9D1",
        "colab_type": "code",
        "colab": {}
      },
      "cell_type": "code",
      "source": [
        "#imputation of missing values in Employment.Type column by unemployed as it is only self employed and saried is mentioned so there will be obviously also unemployed applicants\n",
        "df['Employment.Type']= df['Employment.Type'].replace(r'^\\s*$', np.nan, regex=True)\n",
        "df[\"Employment.Type\"]=df[\"Employment.Type\"].fillna(\"Unemployed\")"
      ],
      "execution_count": 0,
      "outputs": []
    },
    {
      "metadata": {
        "id": "7gmjqJtRoGNF",
        "colab_type": "code",
        "outputId": "b004735e-cf5d-4bd6-fdcb-140ff73dfdf6",
        "colab": {
          "base_uri": "https://localhost:8080/",
          "height": 87
        }
      },
      "cell_type": "code",
      "source": [
        "# encodings for type of employments \n",
        "\n",
        "df['Employment.Type'] = df['Employment.Type'].replace(('Self employed', 'Salaried', 'Unemployed'), (2, 1, 0))\n",
        "\n",
        "# checking the values  of employement type\n",
        "df['Employment.Type'].value_counts()"
      ],
      "execution_count": 0,
      "outputs": [
        {
          "output_type": "execute_result",
          "data": {
            "text/plain": [
              "2    127635\n",
              "1     97858\n",
              "0      7661\n",
              "Name: Employment.Type, dtype: int64"
            ]
          },
          "metadata": {
            "tags": []
          },
          "execution_count": 24
        }
      ]
    },
    {
      "metadata": {
        "id": "B9kL_YOlQsfT",
        "colab_type": "code",
        "outputId": "82d309e5-b1ed-4f62-e30e-1853f8a7edcd",
        "colab": {
          "base_uri": "https://localhost:8080/",
          "height": 781
        }
      },
      "cell_type": "code",
      "source": [
        "df.dtypes"
      ],
      "execution_count": 0,
      "outputs": [
        {
          "output_type": "execute_result",
          "data": {
            "text/plain": [
              "UniqueID                                        int64\n",
              "disbursed_amount                                int64\n",
              "asset_cost                                      int64\n",
              "ltv                                           float64\n",
              "branch_id                                       int64\n",
              "supplier_id                                     int64\n",
              "manufacturer_id                                 int64\n",
              "Current_pincode_ID                              int64\n",
              "Date.of.Birth                          datetime64[ns]\n",
              "Employment.Type                                 int64\n",
              "DisbursalDate                                  object\n",
              "State_ID                                        int64\n",
              "Employee_code_ID                                int64\n",
              "MobileNo_Avl_Flag                               int64\n",
              "Aadhar_flag                                     int64\n",
              "PAN_flag                                        int64\n",
              "VoterID_flag                                    int64\n",
              "Driving_flag                                    int64\n",
              "Passport_flag                                   int64\n",
              "PERFORM_CNS.SCORE                               int64\n",
              "PERFORM_CNS.SCORE.DESCRIPTION                   int64\n",
              "PRI.NO.OF.ACCTS                                 int64\n",
              "PRI.ACTIVE.ACCTS                                int64\n",
              "PRI.OVERDUE.ACCTS                               int64\n",
              "PRI.CURRENT.BALANCE                             int64\n",
              "PRI.SANCTIONED.AMOUNT                           int64\n",
              "PRI.DISBURSED.AMOUNT                            int64\n",
              "SEC.NO.OF.ACCTS                                 int64\n",
              "SEC.ACTIVE.ACCTS                                int64\n",
              "SEC.OVERDUE.ACCTS                               int64\n",
              "SEC.CURRENT.BALANCE                             int64\n",
              "SEC.SANCTIONED.AMOUNT                           int64\n",
              "SEC.DISBURSED.AMOUNT                            int64\n",
              "PRIMARY.INSTAL.AMT                              int64\n",
              "SEC.INSTAL.AMT                                  int64\n",
              "NEW.ACCTS.IN.LAST.SIX.MONTHS                    int64\n",
              "DELINQUENT.ACCTS.IN.LAST.SIX.MONTHS             int64\n",
              "AVERAGE.ACCT.AGE                              float64\n",
              "CREDIT.HISTORY.LENGTH                         float64\n",
              "NO.OF_INQUIRIES                                 int64\n",
              "loan_default                                    int64\n",
              "Age                                             int64\n",
              "dtype: object"
            ]
          },
          "metadata": {
            "tags": []
          },
          "execution_count": 25
        }
      ]
    },
    {
      "metadata": {
        "id": "SdmZl3SPov4A",
        "colab_type": "code",
        "outputId": "01f85972-ec0a-42d9-84d6-fd35d7e9dc6f",
        "colab": {
          "base_uri": "https://localhost:8080/",
          "height": 781
        }
      },
      "cell_type": "code",
      "source": [
        "#transformation categorical columns to integer\n",
        "df.isnull().sum()"
      ],
      "execution_count": 0,
      "outputs": [
        {
          "output_type": "execute_result",
          "data": {
            "text/plain": [
              "UniqueID                               0\n",
              "disbursed_amount                       0\n",
              "asset_cost                             0\n",
              "ltv                                    0\n",
              "branch_id                              0\n",
              "supplier_id                            0\n",
              "manufacturer_id                        0\n",
              "Current_pincode_ID                     0\n",
              "Date.of.Birth                          0\n",
              "Employment.Type                        0\n",
              "DisbursalDate                          0\n",
              "State_ID                               0\n",
              "Employee_code_ID                       0\n",
              "MobileNo_Avl_Flag                      0\n",
              "Aadhar_flag                            0\n",
              "PAN_flag                               0\n",
              "VoterID_flag                           0\n",
              "Driving_flag                           0\n",
              "Passport_flag                          0\n",
              "PERFORM_CNS.SCORE                      0\n",
              "PERFORM_CNS.SCORE.DESCRIPTION          0\n",
              "PRI.NO.OF.ACCTS                        0\n",
              "PRI.ACTIVE.ACCTS                       0\n",
              "PRI.OVERDUE.ACCTS                      0\n",
              "PRI.CURRENT.BALANCE                    0\n",
              "PRI.SANCTIONED.AMOUNT                  0\n",
              "PRI.DISBURSED.AMOUNT                   0\n",
              "SEC.NO.OF.ACCTS                        0\n",
              "SEC.ACTIVE.ACCTS                       0\n",
              "SEC.OVERDUE.ACCTS                      0\n",
              "SEC.CURRENT.BALANCE                    0\n",
              "SEC.SANCTIONED.AMOUNT                  0\n",
              "SEC.DISBURSED.AMOUNT                   0\n",
              "PRIMARY.INSTAL.AMT                     0\n",
              "SEC.INSTAL.AMT                         0\n",
              "NEW.ACCTS.IN.LAST.SIX.MONTHS           0\n",
              "DELINQUENT.ACCTS.IN.LAST.SIX.MONTHS    0\n",
              "AVERAGE.ACCT.AGE                       0\n",
              "CREDIT.HISTORY.LENGTH                  0\n",
              "NO.OF_INQUIRIES                        0\n",
              "loan_default                           0\n",
              "Age                                    0\n",
              "dtype: int64"
            ]
          },
          "metadata": {
            "tags": []
          },
          "execution_count": 26
        }
      ]
    },
    {
      "metadata": {
        "id": "MV5Dkevak6l0",
        "colab_type": "code",
        "outputId": "1e71119c-bade-4e58-9674-411c535cd54a",
        "colab": {
          "base_uri": "https://localhost:8080/",
          "height": 351
        }
      },
      "cell_type": "code",
      "source": [
        "# check the distribution of disbursed amount\n",
        "\n",
        "plt.rcParams['figure.figsize'] = (18, 5)\n",
        "\n",
        "plt.subplot(1, 3, 1)\n",
        "sns.distplot(df['disbursed_amount'],  color = 'orange')\n",
        "plt.title('Disburesed Amount')\n",
        "\n",
        "plt.subplot(1, 3, 2)\n",
        "sns.distplot(df['asset_cost'], color = 'pink')\n",
        "plt.title('Asset Cost')\n",
        "\n",
        "plt.subplot(1, 3, 3)\n",
        "sns.distplot(df['ltv'], color = 'red')\n",
        "plt.title('Loan to value of the asset')\n",
        "\n",
        "\n",
        "#PRIMARY.INSTAL.AMT \n",
        "\n",
        "plt.show()"
      ],
      "execution_count": 0,
      "outputs": [
        {
          "output_type": "display_data",
          "data": {
            "image/png": "[encoded data removed]",
            "text/plain": [
              "<Figure size 1296x360 with 3 Axes>"
            ]
          },
          "metadata": {
            "tags": []
          }
        }
      ]
    },
    {
      "metadata": {
        "id": "fxXUwbLCsu-W",
        "colab_type": "code",
        "outputId": "f7956eed-a562-4ac1-e4c1-13730e04d783",
        "colab": {
          "base_uri": "https://localhost:8080/",
          "height": 852
        }
      },
      "cell_type": "code",
      "source": [
        "df.info()"
      ],
      "execution_count": 0,
      "outputs": [
        {
          "output_type": "stream",
          "text": [
            "<class 'pandas.core.frame.DataFrame'>\n",
            "RangeIndex: 233154 entries, 0 to 233153\n",
            "Data columns (total 42 columns):\n",
            "UniqueID                               233154 non-null int64\n",
            "disbursed_amount                       233154 non-null int64\n",
            "asset_cost                             233154 non-null int64\n",
            "ltv                                    233154 non-null float64\n",
            "branch_id                              233154 non-null int64\n",
            "supplier_id                            233154 non-null int64\n",
            "manufacturer_id                        233154 non-null int64\n",
            "Current_pincode_ID                     233154 non-null int64\n",
            "Date.of.Birth                          233154 non-null datetime64[ns]\n",
            "Employment.Type                        233154 non-null int64\n",
            "DisbursalDate                          233154 non-null object\n",
            "State_ID                               233154 non-null int64\n",
            "Employee_code_ID                       233154 non-null int64\n",
            "MobileNo_Avl_Flag                      233154 non-null int64\n",
            "Aadhar_flag                            233154 non-null int64\n",
            "PAN_flag                               233154 non-null int64\n",
            "VoterID_flag                           233154 non-null int64\n",
            "Driving_flag                           233154 non-null int64\n",
            "Passport_flag                          233154 non-null int64\n",
            "PERFORM_CNS.SCORE                      233154 non-null int64\n",
            "PERFORM_CNS.SCORE.DESCRIPTION          233154 non-null int64\n",
            "PRI.NO.OF.ACCTS                        233154 non-null int64\n",
            "PRI.ACTIVE.ACCTS                       233154 non-null int64\n",
            "PRI.OVERDUE.ACCTS                      233154 non-null int64\n",
            "PRI.CURRENT.BALANCE                    233154 non-null int64\n",
            "PRI.SANCTIONED.AMOUNT                  233154 non-null int64\n",
            "PRI.DISBURSED.AMOUNT                   233154 non-null int64\n",
            "SEC.NO.OF.ACCTS                        233154 non-null int64\n",
            "SEC.ACTIVE.ACCTS                       233154 non-null int64\n",
            "SEC.OVERDUE.ACCTS                      233154 non-null int64\n",
            "SEC.CURRENT.BALANCE                    233154 non-null int64\n",
            "SEC.SANCTIONED.AMOUNT                  233154 non-null int64\n",
            "SEC.DISBURSED.AMOUNT                   233154 non-null int64\n",
            "PRIMARY.INSTAL.AMT                     233154 non-null int64\n",
            "SEC.INSTAL.AMT                         233154 non-null int64\n",
            "NEW.ACCTS.IN.LAST.SIX.MONTHS           233154 non-null int64\n",
            "DELINQUENT.ACCTS.IN.LAST.SIX.MONTHS    233154 non-null int64\n",
            "AVERAGE.ACCT.AGE                       233154 non-null float64\n",
            "CREDIT.HISTORY.LENGTH                  233154 non-null float64\n",
            "NO.OF_INQUIRIES                        233154 non-null int64\n",
            "loan_default                           233154 non-null int64\n",
            "Age                                    233154 non-null int64\n",
            "dtypes: datetime64[ns](1), float64(3), int64(37), object(1)\n",
            "memory usage: 74.7+ MB\n"
          ],
          "name": "stdout"
        }
      ]
    },
    {
      "metadata": {
        "id": "AmR5AOABkaGj",
        "colab_type": "code",
        "colab": {}
      },
      "cell_type": "code",
      "source": [
        "print(\"Minority Label percentage:\",Loan_Default.value_counts()[1]/len(Loan_Default))\n",
        "print(\"Majority Label percentage:\",Loan_Default.value_counts()[0]/len(Loan_Default))"
      ],
      "execution_count": 0,
      "outputs": []
    },
    {
      "metadata": {
        "id": "1hDCA_W_52w3",
        "colab_type": "text"
      },
      "cell_type": "markdown",
      "source": [
        "Data is skewed with the ration of 21.70/78.29"
      ]
    },
    {
      "metadata": {
        "id": "L54Er6xdRI70",
        "colab_type": "code",
        "outputId": "fa532d72-60e3-4cae-cd86-920198de7391",
        "colab": {
          "base_uri": "https://localhost:8080/",
          "height": 34
        }
      },
      "cell_type": "code",
      "source": [
        "df.shape\n",
        "len(df.index)"
      ],
      "execution_count": 0,
      "outputs": [
        {
          "output_type": "execute_result",
          "data": {
            "text/plain": [
              "233154"
            ]
          },
          "metadata": {
            "tags": []
          },
          "execution_count": 32
        }
      ]
    },
    {
      "metadata": {
        "id": "So2GFtA5Pgej",
        "colab_type": "code",
        "outputId": "7af25e33-8547-4d78-e42f-7647426ede11",
        "colab": {
          "base_uri": "https://localhost:8080/",
          "height": 1741
        }
      },
      "cell_type": "code",
      "source": [
        "for i in df.columns:\n",
        "  print(i)\n",
        "  j=df[i].nunique()\n",
        "  print(j)\n",
        "  k=len(df.index)\n",
        "  if(j<2 or j==k):\n",
        "    df=df.drop([i],axis=1)\n",
        "print(df.columns)"
      ],
      "execution_count": 0,
      "outputs": [
        {
          "output_type": "stream",
          "text": [
            "UniqueID\n",
            "233154\n",
            "disbursed_amount\n",
            "24565\n",
            "asset_cost\n",
            "46252\n",
            "ltv\n",
            "6579\n",
            "branch_id\n",
            "82\n",
            "supplier_id\n",
            "2953\n",
            "manufacturer_id\n",
            "11\n",
            "Current_pincode_ID\n",
            "6698\n",
            "Date.of.Birth\n",
            "15433\n",
            "Employment.Type\n",
            "3\n",
            "DisbursalDate\n",
            "84\n",
            "State_ID\n",
            "22\n",
            "Employee_code_ID\n",
            "3270\n",
            "MobileNo_Avl_Flag\n",
            "1\n",
            "Aadhar_flag\n",
            "2\n",
            "PAN_flag\n",
            "2\n",
            "VoterID_flag\n",
            "2\n",
            "Driving_flag\n",
            "2\n",
            "Passport_flag\n",
            "2\n",
            "PERFORM_CNS.SCORE\n",
            "573\n",
            "PERFORM_CNS.SCORE.DESCRIPTION\n",
            "6\n",
            "PRI.NO.OF.ACCTS\n",
            "108\n",
            "PRI.ACTIVE.ACCTS\n",
            "40\n",
            "PRI.OVERDUE.ACCTS\n",
            "22\n",
            "PRI.CURRENT.BALANCE\n",
            "71341\n",
            "PRI.SANCTIONED.AMOUNT\n",
            "44390\n",
            "PRI.DISBURSED.AMOUNT\n",
            "47909\n",
            "SEC.NO.OF.ACCTS\n",
            "37\n",
            "SEC.ACTIVE.ACCTS\n",
            "23\n",
            "SEC.OVERDUE.ACCTS\n",
            "9\n",
            "SEC.CURRENT.BALANCE\n",
            "3246\n",
            "SEC.SANCTIONED.AMOUNT\n",
            "2223\n",
            "SEC.DISBURSED.AMOUNT\n",
            "2553\n",
            "PRIMARY.INSTAL.AMT\n",
            "28067\n",
            "SEC.INSTAL.AMT\n",
            "1918\n",
            "NEW.ACCTS.IN.LAST.SIX.MONTHS\n",
            "26\n",
            "DELINQUENT.ACCTS.IN.LAST.SIX.MONTHS\n",
            "14\n",
            "AVERAGE.ACCT.AGE\n",
            "178\n",
            "CREDIT.HISTORY.LENGTH\n",
            "272\n",
            "NO.OF_INQUIRIES\n",
            "25\n",
            "loan_default\n",
            "2\n",
            "Age\n",
            "48\n",
            "Index(['disbursed_amount', 'asset_cost', 'ltv', 'branch_id', 'supplier_id',\n",
            "       'manufacturer_id', 'Current_pincode_ID', 'Date.of.Birth',\n",
            "       'Employment.Type', 'DisbursalDate', 'State_ID', 'Employee_code_ID',\n",
            "       'Aadhar_flag', 'PAN_flag', 'VoterID_flag', 'Driving_flag',\n",
            "       'Passport_flag', 'PERFORM_CNS.SCORE', 'PERFORM_CNS.SCORE.DESCRIPTION',\n",
            "       'PRI.NO.OF.ACCTS', 'PRI.ACTIVE.ACCTS', 'PRI.OVERDUE.ACCTS',\n",
            "       'PRI.CURRENT.BALANCE', 'PRI.SANCTIONED.AMOUNT', 'PRI.DISBURSED.AMOUNT',\n",
            "       'SEC.NO.OF.ACCTS', 'SEC.ACTIVE.ACCTS', 'SEC.OVERDUE.ACCTS',\n",
            "       'SEC.CURRENT.BALANCE', 'SEC.SANCTIONED.AMOUNT', 'SEC.DISBURSED.AMOUNT',\n",
            "       'PRIMARY.INSTAL.AMT', 'SEC.INSTAL.AMT', 'NEW.ACCTS.IN.LAST.SIX.MONTHS',\n",
            "       'DELINQUENT.ACCTS.IN.LAST.SIX.MONTHS', 'AVERAGE.ACCT.AGE',\n",
            "       'CREDIT.HISTORY.LENGTH', 'NO.OF_INQUIRIES', 'loan_default', 'Age'],\n",
            "      dtype='object')\n"
          ],
          "name": "stdout"
        }
      ]
    },
    {
      "metadata": {
        "id": "qZTjknf2TDdz",
        "colab_type": "code",
        "colab": {}
      },
      "cell_type": "code",
      "source": [
        "df['total_flags']=df['Aadhar_flag']+df['PAN_flag']+ df['VoterID_flag']+df['Driving_flag']+df['Passport_flag']"
      ],
      "execution_count": 0,
      "outputs": []
    },
    {
      "metadata": {
        "id": "72biTsNZVu3h",
        "colab_type": "code",
        "outputId": "da942ed1-269b-430c-c636-23c59b86b13c",
        "colab": {
          "base_uri": "https://localhost:8080/",
          "height": 265
        }
      },
      "cell_type": "code",
      "source": [
        "df.columns"
      ],
      "execution_count": 0,
      "outputs": [
        {
          "output_type": "execute_result",
          "data": {
            "text/plain": [
              "Index(['disbursed_amount', 'asset_cost', 'ltv', 'branch_id', 'supplier_id',\n",
              "       'manufacturer_id', 'Current_pincode_ID', 'Date.of.Birth',\n",
              "       'Employment.Type', 'DisbursalDate', 'State_ID', 'Employee_code_ID',\n",
              "       'Aadhar_flag', 'PAN_flag', 'VoterID_flag', 'Driving_flag',\n",
              "       'Passport_flag', 'PERFORM_CNS.SCORE', 'PERFORM_CNS.SCORE.DESCRIPTION',\n",
              "       'PRI.NO.OF.ACCTS', 'PRI.ACTIVE.ACCTS', 'PRI.OVERDUE.ACCTS',\n",
              "       'PRI.CURRENT.BALANCE', 'PRI.SANCTIONED.AMOUNT', 'PRI.DISBURSED.AMOUNT',\n",
              "       'SEC.NO.OF.ACCTS', 'SEC.ACTIVE.ACCTS', 'SEC.OVERDUE.ACCTS',\n",
              "       'SEC.CURRENT.BALANCE', 'SEC.SANCTIONED.AMOUNT', 'SEC.DISBURSED.AMOUNT',\n",
              "       'PRIMARY.INSTAL.AMT', 'SEC.INSTAL.AMT', 'NEW.ACCTS.IN.LAST.SIX.MONTHS',\n",
              "       'DELINQUENT.ACCTS.IN.LAST.SIX.MONTHS', 'AVERAGE.ACCT.AGE',\n",
              "       'CREDIT.HISTORY.LENGTH', 'NO.OF_INQUIRIES', 'loan_default', 'Age',\n",
              "       'total_flags'],\n",
              "      dtype='object')"
            ]
          },
          "metadata": {
            "tags": []
          },
          "execution_count": 35
        }
      ]
    },
    {
      "metadata": {
        "id": "jca-XbRBTIIO",
        "colab_type": "code",
        "colab": {}
      },
      "cell_type": "code",
      "source": [
        "df=df.drop(columns = ['Aadhar_flag', 'PAN_flag', 'VoterID_flag', 'Driving_flag','Passport_flag'])   #dropping theses cos we have made totalflags a new column"
      ],
      "execution_count": 0,
      "outputs": []
    },
    {
      "metadata": {
        "id": "ggGdxHqMTeVV",
        "colab_type": "code",
        "colab": {}
      },
      "cell_type": "code",
      "source": [
        "df['DisbursalDate']=pd.to_datetime(df['DisbursalDate'])\n",
        "df['disbursal_year'] = df['DisbursalDate'].dt.year\n"
      ],
      "execution_count": 0,
      "outputs": []
    },
    {
      "metadata": {
        "id": "f5ww2R3sTuEV",
        "colab_type": "code",
        "outputId": "11c1c2ad-b490-4c39-bca6-78ffb8a30491",
        "colab": {
          "base_uri": "https://localhost:8080/",
          "height": 123
        }
      },
      "cell_type": "code",
      "source": [
        "df['disbursal_year'].head() "
      ],
      "execution_count": 0,
      "outputs": [
        {
          "output_type": "execute_result",
          "data": {
            "text/plain": [
              "0    2018\n",
              "1    2018\n",
              "2    2018\n",
              "3    2018\n",
              "4    2018\n",
              "Name: disbursal_year, dtype: int64"
            ]
          },
          "metadata": {
            "tags": []
          },
          "execution_count": 38
        }
      ]
    },
    {
      "metadata": {
        "id": "d7N1f7KcaE5j",
        "colab_type": "code",
        "colab": {}
      },
      "cell_type": "code",
      "source": [
        "df['creditscoreavg']=df['PERFORM_CNS.SCORE']/df['Age']               #here we have a made a column such that we see what is his credit score for his age .. \n",
        "df['creditscoreavg']=df['creditscoreavg'].round(2)"
      ],
      "execution_count": 0,
      "outputs": []
    },
    {
      "metadata": {
        "id": "iXp1YLUWaXfZ",
        "colab_type": "code",
        "outputId": "1a7d2fe0-7122-4499-e490-f00dbf485924",
        "colab": {
          "base_uri": "https://localhost:8080/",
          "height": 123
        }
      },
      "cell_type": "code",
      "source": [
        "#which quarter of the eyar was the loan taken can be important \n",
        "\n",
        "df['DisbursalDate_quarter'] = df['DisbursalDate'].dt.quarter\n",
        "df['DisbursalDate_quarter'].head()"
      ],
      "execution_count": 0,
      "outputs": [
        {
          "output_type": "execute_result",
          "data": {
            "text/plain": [
              "0    1\n",
              "1    3\n",
              "2    1\n",
              "3    4\n",
              "4    3\n",
              "Name: DisbursalDate_quarter, dtype: int64"
            ]
          },
          "metadata": {
            "tags": []
          },
          "execution_count": 40
        }
      ]
    },
    {
      "metadata": {
        "id": "mxbcsT_saeA8",
        "colab_type": "code",
        "colab": {}
      },
      "cell_type": "code",
      "source": [
        "#as we have derieved the above columns we shall drop\n",
        "df=df.drop(columns=['DisbursalDate'])"
      ],
      "execution_count": 0,
      "outputs": []
    },
    {
      "metadata": {
        "id": "GXEWWVPHaiFO",
        "colab_type": "code",
        "outputId": "074ae553-f2da-4ae2-e4cb-6a3647025e53",
        "colab": {
          "base_uri": "https://localhost:8080/",
          "height": 1118
        }
      },
      "cell_type": "code",
      "source": [
        "c = df.corr()\n",
        "\n",
        "s = c.unstack()\n",
        "\n",
        "\n",
        "so = s.sort_values(kind=\"quicksort\")\n",
        "so"
      ],
      "execution_count": 0,
      "outputs": [
        {
          "output_type": "execute_result",
          "data": {
            "text/plain": [
              "ltv                            asset_cost                            -0.301188\n",
              "asset_cost                     ltv                                   -0.301188\n",
              "Current_pincode_ID             ltv                                   -0.300112\n",
              "ltv                            Current_pincode_ID                    -0.300112\n",
              "PERFORM_CNS.SCORE              Current_pincode_ID                    -0.161664\n",
              "Current_pincode_ID             PERFORM_CNS.SCORE                     -0.161664\n",
              "                               creditscoreavg                        -0.152266\n",
              "creditscoreavg                 Current_pincode_ID                    -0.152266\n",
              "Age                            asset_cost                            -0.118342\n",
              "asset_cost                     Age                                   -0.118342\n",
              "Current_pincode_ID             PRI.ACTIVE.ACCTS                      -0.117882\n",
              "PRI.ACTIVE.ACCTS               Current_pincode_ID                    -0.117882\n",
              "PERFORM_CNS.SCORE.DESCRIPTION  Current_pincode_ID                    -0.114459\n",
              "Current_pincode_ID             PERFORM_CNS.SCORE.DESCRIPTION         -0.114459\n",
              "manufacturer_id                Current_pincode_ID                    -0.104349\n",
              "Current_pincode_ID             manufacturer_id                       -0.104349\n",
              "supplier_id                    ltv                                   -0.103732\n",
              "ltv                            supplier_id                           -0.103732\n",
              "Current_pincode_ID             NEW.ACCTS.IN.LAST.SIX.MONTHS          -0.100080\n",
              "NEW.ACCTS.IN.LAST.SIX.MONTHS   Current_pincode_ID                    -0.100080\n",
              "CREDIT.HISTORY.LENGTH          Current_pincode_ID                    -0.095634\n",
              "Current_pincode_ID             CREDIT.HISTORY.LENGTH                 -0.095634\n",
              "                               PRI.NO.OF.ACCTS                       -0.084687\n",
              "PRI.NO.OF.ACCTS                Current_pincode_ID                    -0.084687\n",
              "Employment.Type                ltv                                   -0.077431\n",
              "ltv                            Employment.Type                       -0.077431\n",
              "PERFORM_CNS.SCORE              supplier_id                           -0.077029\n",
              "supplier_id                    PERFORM_CNS.SCORE                     -0.077029\n",
              "Age                            Current_pincode_ID                    -0.070891\n",
              "Current_pincode_ID             Age                                   -0.070891\n",
              "                                                                        ...   \n",
              "disbursal_year                 Employee_code_ID                            NaN\n",
              "                               PERFORM_CNS.SCORE                           NaN\n",
              "                               PERFORM_CNS.SCORE.DESCRIPTION               NaN\n",
              "                               PRI.NO.OF.ACCTS                             NaN\n",
              "                               PRI.ACTIVE.ACCTS                            NaN\n",
              "                               PRI.OVERDUE.ACCTS                           NaN\n",
              "                               PRI.CURRENT.BALANCE                         NaN\n",
              "                               PRI.SANCTIONED.AMOUNT                       NaN\n",
              "                               PRI.DISBURSED.AMOUNT                        NaN\n",
              "                               SEC.NO.OF.ACCTS                             NaN\n",
              "                               SEC.ACTIVE.ACCTS                            NaN\n",
              "                               SEC.OVERDUE.ACCTS                           NaN\n",
              "                               SEC.CURRENT.BALANCE                         NaN\n",
              "                               SEC.SANCTIONED.AMOUNT                       NaN\n",
              "                               SEC.DISBURSED.AMOUNT                        NaN\n",
              "                               PRIMARY.INSTAL.AMT                          NaN\n",
              "                               SEC.INSTAL.AMT                              NaN\n",
              "                               NEW.ACCTS.IN.LAST.SIX.MONTHS                NaN\n",
              "                               DELINQUENT.ACCTS.IN.LAST.SIX.MONTHS         NaN\n",
              "                               AVERAGE.ACCT.AGE                            NaN\n",
              "                               CREDIT.HISTORY.LENGTH                       NaN\n",
              "                               NO.OF_INQUIRIES                             NaN\n",
              "                               loan_default                                NaN\n",
              "                               Age                                         NaN\n",
              "                               total_flags                                 NaN\n",
              "                               disbursal_year                              NaN\n",
              "                               creditscoreavg                              NaN\n",
              "                               DisbursalDate_quarter                       NaN\n",
              "creditscoreavg                 disbursal_year                              NaN\n",
              "DisbursalDate_quarter          disbursal_year                              NaN\n",
              "Length: 1369, dtype: float64"
            ]
          },
          "metadata": {
            "tags": []
          },
          "execution_count": 42
        }
      ]
    },
    {
      "metadata": {
        "id": "zMt8z5eniKhW",
        "colab_type": "code",
        "outputId": "621c2367-ffe7-483a-bbaf-e3ba31734faf",
        "colab": {
          "base_uri": "https://localhost:8080/",
          "height": 674
        }
      },
      "cell_type": "code",
      "source": [
        "df[df.columns[1:]].corr()['loan_default'][:]    #finding corr of all features with target "
      ],
      "execution_count": 0,
      "outputs": [
        {
          "output_type": "execute_result",
          "data": {
            "text/plain": [
              "asset_cost                             0.014261\n",
              "ltv                                    0.098208\n",
              "branch_id                              0.030193\n",
              "supplier_id                            0.027357\n",
              "manufacturer_id                       -0.025039\n",
              "Current_pincode_ID                     0.028419\n",
              "Employment.Type                        0.025377\n",
              "State_ID                               0.048075\n",
              "Employee_code_ID                       0.020657\n",
              "PERFORM_CNS.SCORE                     -0.057929\n",
              "PERFORM_CNS.SCORE.DESCRIPTION          0.029370\n",
              "PRI.NO.OF.ACCTS                       -0.035456\n",
              "PRI.ACTIVE.ACCTS                      -0.041451\n",
              "PRI.OVERDUE.ACCTS                      0.040872\n",
              "PRI.CURRENT.BALANCE                   -0.027386\n",
              "PRI.SANCTIONED.AMOUNT                 -0.011304\n",
              "PRI.DISBURSED.AMOUNT                  -0.011155\n",
              "SEC.NO.OF.ACCTS                       -0.008385\n",
              "SEC.ACTIVE.ACCTS                      -0.005993\n",
              "SEC.OVERDUE.ACCTS                     -0.001371\n",
              "SEC.CURRENT.BALANCE                   -0.005531\n",
              "SEC.SANCTIONED.AMOUNT                 -0.006354\n",
              "SEC.DISBURSED.AMOUNT                  -0.006248\n",
              "PRIMARY.INSTAL.AMT                    -0.010616\n",
              "SEC.INSTAL.AMT                        -0.001548\n",
              "NEW.ACCTS.IN.LAST.SIX.MONTHS          -0.029400\n",
              "DELINQUENT.ACCTS.IN.LAST.SIX.MONTHS    0.034462\n",
              "AVERAGE.ACCT.AGE                      -0.023866\n",
              "CREDIT.HISTORY.LENGTH                 -0.042053\n",
              "NO.OF_INQUIRIES                        0.043678\n",
              "loan_default                           1.000000\n",
              "Age                                   -0.037287\n",
              "total_flags                           -0.001825\n",
              "disbursal_year                              NaN\n",
              "creditscoreavg                        -0.044328\n",
              "DisbursalDate_quarter                  0.026376\n",
              "Name: loan_default, dtype: float64"
            ]
          },
          "metadata": {
            "tags": []
          },
          "execution_count": 43
        }
      ]
    },
    {
      "metadata": {
        "id": "W1Au_hASeJO2",
        "colab_type": "code",
        "colab": {}
      },
      "cell_type": "code",
      "source": [
        "df=df.drop(['disbursal_year'],axis=1)"
      ],
      "execution_count": 0,
      "outputs": []
    },
    {
      "metadata": {
        "id": "eQRzMZWNegWQ",
        "colab_type": "code",
        "outputId": "c29ced02-5742-4d01-889d-ece205470fc6",
        "colab": {
          "base_uri": "https://localhost:8080/",
          "height": 1118
        }
      },
      "cell_type": "code",
      "source": [
        "c = df.corr()\n",
        "\n",
        "s = c.unstack()\n",
        "\n",
        "\n",
        "so = s.sort_values(kind=\"quicksort\")\n",
        "so"
      ],
      "execution_count": 0,
      "outputs": [
        {
          "output_type": "execute_result",
          "data": {
            "text/plain": [
              "ltv                                  asset_cost                            -0.301188\n",
              "asset_cost                           ltv                                   -0.301188\n",
              "Current_pincode_ID                   ltv                                   -0.300112\n",
              "ltv                                  Current_pincode_ID                    -0.300112\n",
              "PERFORM_CNS.SCORE                    Current_pincode_ID                    -0.161664\n",
              "Current_pincode_ID                   PERFORM_CNS.SCORE                     -0.161664\n",
              "                                     creditscoreavg                        -0.152266\n",
              "creditscoreavg                       Current_pincode_ID                    -0.152266\n",
              "Age                                  asset_cost                            -0.118342\n",
              "asset_cost                           Age                                   -0.118342\n",
              "Current_pincode_ID                   PRI.ACTIVE.ACCTS                      -0.117882\n",
              "PRI.ACTIVE.ACCTS                     Current_pincode_ID                    -0.117882\n",
              "PERFORM_CNS.SCORE.DESCRIPTION        Current_pincode_ID                    -0.114459\n",
              "Current_pincode_ID                   PERFORM_CNS.SCORE.DESCRIPTION         -0.114459\n",
              "manufacturer_id                      Current_pincode_ID                    -0.104349\n",
              "Current_pincode_ID                   manufacturer_id                       -0.104349\n",
              "supplier_id                          ltv                                   -0.103732\n",
              "ltv                                  supplier_id                           -0.103732\n",
              "Current_pincode_ID                   NEW.ACCTS.IN.LAST.SIX.MONTHS          -0.100080\n",
              "NEW.ACCTS.IN.LAST.SIX.MONTHS         Current_pincode_ID                    -0.100080\n",
              "CREDIT.HISTORY.LENGTH                Current_pincode_ID                    -0.095634\n",
              "Current_pincode_ID                   CREDIT.HISTORY.LENGTH                 -0.095634\n",
              "                                     PRI.NO.OF.ACCTS                       -0.084687\n",
              "PRI.NO.OF.ACCTS                      Current_pincode_ID                    -0.084687\n",
              "Employment.Type                      ltv                                   -0.077431\n",
              "ltv                                  Employment.Type                       -0.077431\n",
              "PERFORM_CNS.SCORE                    supplier_id                           -0.077029\n",
              "supplier_id                          PERFORM_CNS.SCORE                     -0.077029\n",
              "Age                                  Current_pincode_ID                    -0.070891\n",
              "Current_pincode_ID                   Age                                   -0.070891\n",
              "                                                                              ...   \n",
              "PERFORM_CNS.SCORE                    PERFORM_CNS.SCORE                      1.000000\n",
              "Employee_code_ID                     Employee_code_ID                       1.000000\n",
              "PRI.CURRENT.BALANCE                  PRI.CURRENT.BALANCE                    1.000000\n",
              "State_ID                             State_ID                               1.000000\n",
              "Current_pincode_ID                   Current_pincode_ID                     1.000000\n",
              "manufacturer_id                      manufacturer_id                        1.000000\n",
              "supplier_id                          supplier_id                            1.000000\n",
              "branch_id                            branch_id                              1.000000\n",
              "ltv                                  ltv                                    1.000000\n",
              "asset_cost                           asset_cost                             1.000000\n",
              "Employment.Type                      Employment.Type                        1.000000\n",
              "creditscoreavg                       creditscoreavg                         1.000000\n",
              "PRI.SANCTIONED.AMOUNT                PRI.SANCTIONED.AMOUNT                  1.000000\n",
              "SEC.NO.OF.ACCTS                      SEC.NO.OF.ACCTS                        1.000000\n",
              "Age                                  Age                                    1.000000\n",
              "loan_default                         loan_default                           1.000000\n",
              "NO.OF_INQUIRIES                      NO.OF_INQUIRIES                        1.000000\n",
              "CREDIT.HISTORY.LENGTH                CREDIT.HISTORY.LENGTH                  1.000000\n",
              "AVERAGE.ACCT.AGE                     AVERAGE.ACCT.AGE                       1.000000\n",
              "DELINQUENT.ACCTS.IN.LAST.SIX.MONTHS  DELINQUENT.ACCTS.IN.LAST.SIX.MONTHS    1.000000\n",
              "PRI.DISBURSED.AMOUNT                 PRI.DISBURSED.AMOUNT                   1.000000\n",
              "NEW.ACCTS.IN.LAST.SIX.MONTHS         NEW.ACCTS.IN.LAST.SIX.MONTHS           1.000000\n",
              "PRIMARY.INSTAL.AMT                   PRIMARY.INSTAL.AMT                     1.000000\n",
              "SEC.DISBURSED.AMOUNT                 SEC.DISBURSED.AMOUNT                   1.000000\n",
              "SEC.SANCTIONED.AMOUNT                SEC.SANCTIONED.AMOUNT                  1.000000\n",
              "SEC.CURRENT.BALANCE                  SEC.CURRENT.BALANCE                    1.000000\n",
              "SEC.OVERDUE.ACCTS                    SEC.OVERDUE.ACCTS                      1.000000\n",
              "SEC.ACTIVE.ACCTS                     SEC.ACTIVE.ACCTS                       1.000000\n",
              "SEC.INSTAL.AMT                       SEC.INSTAL.AMT                         1.000000\n",
              "DisbursalDate_quarter                DisbursalDate_quarter                  1.000000\n",
              "Length: 1296, dtype: float64"
            ]
          },
          "metadata": {
            "tags": []
          },
          "execution_count": 45
        }
      ]
    },
    {
      "metadata": {
        "id": "XxeikAGut0ri",
        "colab_type": "code",
        "colab": {}
      },
      "cell_type": "code",
      "source": [
        "d=df.copy()\n"
      ],
      "execution_count": 0,
      "outputs": []
    },
    {
      "metadata": {
        "id": "du03fwmgbDuL",
        "colab_type": "code",
        "outputId": "93313aff-800b-49fd-c548-a3562e69cf61",
        "colab": {
          "base_uri": "https://localhost:8080/",
          "height": 217
        }
      },
      "cell_type": "code",
      "source": [
        "df.head()"
      ],
      "execution_count": 0,
      "outputs": [
        {
          "output_type": "execute_result",
          "data": {
            "text/html": [
              "<div>\n",
              "<style scoped>\n",
              "    .dataframe tbody tr th:only-of-type {\n",
              "        vertical-align: middle;\n",
              "    }\n",
              "\n",
              "    .dataframe tbody tr th {\n",
              "        vertical-align: top;\n",
              "    }\n",
              "\n",
              "    .dataframe thead th {\n",
              "        text-align: right;\n",
              "    }\n",
              "</style>\n",
              "<table border=\"1\" class=\"dataframe\">\n",
              "  <thead>\n",
              "    <tr style=\"text-align: right;\">\n",
              "      <th></th>\n",
              "      <th>disbursed_amount</th>\n",
              "      <th>asset_cost</th>\n",
              "      <th>ltv</th>\n",
              "      <th>branch_id</th>\n",
              "      <th>supplier_id</th>\n",
              "      <th>manufacturer_id</th>\n",
              "      <th>Current_pincode_ID</th>\n",
              "      <th>Date.of.Birth</th>\n",
              "      <th>Employment.Type</th>\n",
              "      <th>State_ID</th>\n",
              "      <th>Employee_code_ID</th>\n",
              "      <th>PERFORM_CNS.SCORE</th>\n",
              "      <th>PERFORM_CNS.SCORE.DESCRIPTION</th>\n",
              "      <th>PRI.NO.OF.ACCTS</th>\n",
              "      <th>PRI.ACTIVE.ACCTS</th>\n",
              "      <th>PRI.OVERDUE.ACCTS</th>\n",
              "      <th>PRI.CURRENT.BALANCE</th>\n",
              "      <th>PRI.SANCTIONED.AMOUNT</th>\n",
              "      <th>PRI.DISBURSED.AMOUNT</th>\n",
              "      <th>SEC.NO.OF.ACCTS</th>\n",
              "      <th>SEC.ACTIVE.ACCTS</th>\n",
              "      <th>SEC.OVERDUE.ACCTS</th>\n",
              "      <th>SEC.CURRENT.BALANCE</th>\n",
              "      <th>SEC.SANCTIONED.AMOUNT</th>\n",
              "      <th>SEC.DISBURSED.AMOUNT</th>\n",
              "      <th>PRIMARY.INSTAL.AMT</th>\n",
              "      <th>SEC.INSTAL.AMT</th>\n",
              "      <th>NEW.ACCTS.IN.LAST.SIX.MONTHS</th>\n",
              "      <th>DELINQUENT.ACCTS.IN.LAST.SIX.MONTHS</th>\n",
              "      <th>AVERAGE.ACCT.AGE</th>\n",
              "      <th>CREDIT.HISTORY.LENGTH</th>\n",
              "      <th>NO.OF_INQUIRIES</th>\n",
              "      <th>loan_default</th>\n",
              "      <th>Age</th>\n",
              "      <th>total_flags</th>\n",
              "      <th>creditscoreavg</th>\n",
              "      <th>DisbursalDate_quarter</th>\n",
              "    </tr>\n",
              "  </thead>\n",
              "  <tbody>\n",
              "    <tr>\n",
              "      <th>0</th>\n",
              "      <td>50578</td>\n",
              "      <td>58400</td>\n",
              "      <td>89.55</td>\n",
              "      <td>67</td>\n",
              "      <td>22807</td>\n",
              "      <td>45</td>\n",
              "      <td>1441</td>\n",
              "      <td>1984-01-01</td>\n",
              "      <td>1</td>\n",
              "      <td>6</td>\n",
              "      <td>1998</td>\n",
              "      <td>0</td>\n",
              "      <td>0</td>\n",
              "      <td>0</td>\n",
              "      <td>0</td>\n",
              "      <td>0</td>\n",
              "      <td>0</td>\n",
              "      <td>0</td>\n",
              "      <td>0</td>\n",
              "      <td>0</td>\n",
              "      <td>0</td>\n",
              "      <td>0</td>\n",
              "      <td>0</td>\n",
              "      <td>0</td>\n",
              "      <td>0</td>\n",
              "      <td>0</td>\n",
              "      <td>0</td>\n",
              "      <td>0</td>\n",
              "      <td>0</td>\n",
              "      <td>0.00</td>\n",
              "      <td>0.00</td>\n",
              "      <td>0</td>\n",
              "      <td>0</td>\n",
              "      <td>35</td>\n",
              "      <td>1</td>\n",
              "      <td>0.00</td>\n",
              "      <td>1</td>\n",
              "    </tr>\n",
              "    <tr>\n",
              "      <th>1</th>\n",
              "      <td>47145</td>\n",
              "      <td>65550</td>\n",
              "      <td>73.23</td>\n",
              "      <td>67</td>\n",
              "      <td>22807</td>\n",
              "      <td>45</td>\n",
              "      <td>1502</td>\n",
              "      <td>1985-07-31</td>\n",
              "      <td>2</td>\n",
              "      <td>6</td>\n",
              "      <td>1998</td>\n",
              "      <td>598</td>\n",
              "      <td>3</td>\n",
              "      <td>1</td>\n",
              "      <td>1</td>\n",
              "      <td>1</td>\n",
              "      <td>27600</td>\n",
              "      <td>50200</td>\n",
              "      <td>50200</td>\n",
              "      <td>0</td>\n",
              "      <td>0</td>\n",
              "      <td>0</td>\n",
              "      <td>0</td>\n",
              "      <td>0</td>\n",
              "      <td>0</td>\n",
              "      <td>1991</td>\n",
              "      <td>0</td>\n",
              "      <td>0</td>\n",
              "      <td>1</td>\n",
              "      <td>1.11</td>\n",
              "      <td>1.11</td>\n",
              "      <td>0</td>\n",
              "      <td>1</td>\n",
              "      <td>34</td>\n",
              "      <td>1</td>\n",
              "      <td>17.59</td>\n",
              "      <td>3</td>\n",
              "    </tr>\n",
              "    <tr>\n",
              "      <th>2</th>\n",
              "      <td>53278</td>\n",
              "      <td>61360</td>\n",
              "      <td>89.63</td>\n",
              "      <td>67</td>\n",
              "      <td>22807</td>\n",
              "      <td>45</td>\n",
              "      <td>1497</td>\n",
              "      <td>1985-08-24</td>\n",
              "      <td>2</td>\n",
              "      <td>6</td>\n",
              "      <td>1998</td>\n",
              "      <td>0</td>\n",
              "      <td>0</td>\n",
              "      <td>0</td>\n",
              "      <td>0</td>\n",
              "      <td>0</td>\n",
              "      <td>0</td>\n",
              "      <td>0</td>\n",
              "      <td>0</td>\n",
              "      <td>0</td>\n",
              "      <td>0</td>\n",
              "      <td>0</td>\n",
              "      <td>0</td>\n",
              "      <td>0</td>\n",
              "      <td>0</td>\n",
              "      <td>0</td>\n",
              "      <td>0</td>\n",
              "      <td>0</td>\n",
              "      <td>0</td>\n",
              "      <td>0.00</td>\n",
              "      <td>0.00</td>\n",
              "      <td>0</td>\n",
              "      <td>0</td>\n",
              "      <td>34</td>\n",
              "      <td>1</td>\n",
              "      <td>0.00</td>\n",
              "      <td>1</td>\n",
              "    </tr>\n",
              "    <tr>\n",
              "      <th>3</th>\n",
              "      <td>57513</td>\n",
              "      <td>66113</td>\n",
              "      <td>88.48</td>\n",
              "      <td>67</td>\n",
              "      <td>22807</td>\n",
              "      <td>45</td>\n",
              "      <td>1501</td>\n",
              "      <td>1993-12-30</td>\n",
              "      <td>2</td>\n",
              "      <td>6</td>\n",
              "      <td>1998</td>\n",
              "      <td>305</td>\n",
              "      <td>5</td>\n",
              "      <td>3</td>\n",
              "      <td>0</td>\n",
              "      <td>0</td>\n",
              "      <td>0</td>\n",
              "      <td>0</td>\n",
              "      <td>0</td>\n",
              "      <td>0</td>\n",
              "      <td>0</td>\n",
              "      <td>0</td>\n",
              "      <td>0</td>\n",
              "      <td>0</td>\n",
              "      <td>0</td>\n",
              "      <td>31</td>\n",
              "      <td>0</td>\n",
              "      <td>0</td>\n",
              "      <td>0</td>\n",
              "      <td>0.80</td>\n",
              "      <td>1.30</td>\n",
              "      <td>1</td>\n",
              "      <td>1</td>\n",
              "      <td>26</td>\n",
              "      <td>1</td>\n",
              "      <td>11.73</td>\n",
              "      <td>4</td>\n",
              "    </tr>\n",
              "    <tr>\n",
              "      <th>4</th>\n",
              "      <td>52378</td>\n",
              "      <td>60300</td>\n",
              "      <td>88.39</td>\n",
              "      <td>67</td>\n",
              "      <td>22807</td>\n",
              "      <td>45</td>\n",
              "      <td>1495</td>\n",
              "      <td>1977-12-09</td>\n",
              "      <td>2</td>\n",
              "      <td>6</td>\n",
              "      <td>1998</td>\n",
              "      <td>0</td>\n",
              "      <td>0</td>\n",
              "      <td>0</td>\n",
              "      <td>0</td>\n",
              "      <td>0</td>\n",
              "      <td>0</td>\n",
              "      <td>0</td>\n",
              "      <td>0</td>\n",
              "      <td>0</td>\n",
              "      <td>0</td>\n",
              "      <td>0</td>\n",
              "      <td>0</td>\n",
              "      <td>0</td>\n",
              "      <td>0</td>\n",
              "      <td>0</td>\n",
              "      <td>0</td>\n",
              "      <td>0</td>\n",
              "      <td>0</td>\n",
              "      <td>0.00</td>\n",
              "      <td>0.00</td>\n",
              "      <td>1</td>\n",
              "      <td>1</td>\n",
              "      <td>42</td>\n",
              "      <td>1</td>\n",
              "      <td>0.00</td>\n",
              "      <td>3</td>\n",
              "    </tr>\n",
              "  </tbody>\n",
              "</table>\n",
              "</div>"
            ],
            "text/plain": [
              "   disbursed_amount  asset_cost    ltv  branch_id  supplier_id  \\\n",
              "0             50578       58400  89.55         67        22807   \n",
              "1             47145       65550  73.23         67        22807   \n",
              "2             53278       61360  89.63         67        22807   \n",
              "3             57513       66113  88.48         67        22807   \n",
              "4             52378       60300  88.39         67        22807   \n",
              "\n",
              "   manufacturer_id  Current_pincode_ID Date.of.Birth  Employment.Type  \\\n",
              "0               45                1441    1984-01-01                1   \n",
              "1               45                1502    1985-07-31                2   \n",
              "2               45                1497    1985-08-24                2   \n",
              "3               45                1501    1993-12-30                2   \n",
              "4               45                1495    1977-12-09                2   \n",
              "\n",
              "   State_ID  Employee_code_ID  PERFORM_CNS.SCORE  \\\n",
              "0         6              1998                  0   \n",
              "1         6              1998                598   \n",
              "2         6              1998                  0   \n",
              "3         6              1998                305   \n",
              "4         6              1998                  0   \n",
              "\n",
              "   PERFORM_CNS.SCORE.DESCRIPTION  PRI.NO.OF.ACCTS  PRI.ACTIVE.ACCTS  \\\n",
              "0                              0                0                 0   \n",
              "1                              3                1                 1   \n",
              "2                              0                0                 0   \n",
              "3                              5                3                 0   \n",
              "4                              0                0                 0   \n",
              "\n",
              "   PRI.OVERDUE.ACCTS  PRI.CURRENT.BALANCE  PRI.SANCTIONED.AMOUNT  \\\n",
              "0                  0                    0                      0   \n",
              "1                  1                27600                  50200   \n",
              "2                  0                    0                      0   \n",
              "3                  0                    0                      0   \n",
              "4                  0                    0                      0   \n",
              "\n",
              "   PRI.DISBURSED.AMOUNT  SEC.NO.OF.ACCTS  SEC.ACTIVE.ACCTS  SEC.OVERDUE.ACCTS  \\\n",
              "0                     0                0                 0                  0   \n",
              "1                 50200                0                 0                  0   \n",
              "2                     0                0                 0                  0   \n",
              "3                     0                0                 0                  0   \n",
              "4                     0                0                 0                  0   \n",
              "\n",
              "   SEC.CURRENT.BALANCE  SEC.SANCTIONED.AMOUNT  SEC.DISBURSED.AMOUNT  \\\n",
              "0                    0                      0                     0   \n",
              "1                    0                      0                     0   \n",
              "2                    0                      0                     0   \n",
              "3                    0                      0                     0   \n",
              "4                    0                      0                     0   \n",
              "\n",
              "   PRIMARY.INSTAL.AMT  SEC.INSTAL.AMT  NEW.ACCTS.IN.LAST.SIX.MONTHS  \\\n",
              "0                   0               0                             0   \n",
              "1                1991               0                             0   \n",
              "2                   0               0                             0   \n",
              "3                  31               0                             0   \n",
              "4                   0               0                             0   \n",
              "\n",
              "   DELINQUENT.ACCTS.IN.LAST.SIX.MONTHS  AVERAGE.ACCT.AGE  \\\n",
              "0                                    0              0.00   \n",
              "1                                    1              1.11   \n",
              "2                                    0              0.00   \n",
              "3                                    0              0.80   \n",
              "4                                    0              0.00   \n",
              "\n",
              "   CREDIT.HISTORY.LENGTH  NO.OF_INQUIRIES  loan_default  Age  total_flags  \\\n",
              "0                   0.00                0             0   35            1   \n",
              "1                   1.11                0             1   34            1   \n",
              "2                   0.00                0             0   34            1   \n",
              "3                   1.30                1             1   26            1   \n",
              "4                   0.00                1             1   42            1   \n",
              "\n",
              "   creditscoreavg  DisbursalDate_quarter  \n",
              "0            0.00                      1  \n",
              "1           17.59                      3  \n",
              "2            0.00                      1  \n",
              "3           11.73                      4  \n",
              "4            0.00                      3  "
            ]
          },
          "metadata": {
            "tags": []
          },
          "execution_count": 48
        }
      ]
    },
    {
      "metadata": {
        "id": "gJRMEVa-XEfP",
        "colab_type": "code",
        "colab": {}
      },
      "cell_type": "code",
      "source": [
        "df.columns\n",
        "df=df.drop(columns=['Date.of.Birth'])\n",
        "\n"
      ],
      "execution_count": 0,
      "outputs": []
    },
    {
      "metadata": {
        "id": "nzazMtpnbtad",
        "colab_type": "code",
        "outputId": "34514faa-0a41-4e2e-a47c-18e80df414de",
        "colab": {
          "base_uri": "https://localhost:8080/",
          "height": 247
        }
      },
      "cell_type": "code",
      "source": [
        "df.columns"
      ],
      "execution_count": 0,
      "outputs": [
        {
          "output_type": "execute_result",
          "data": {
            "text/plain": [
              "Index(['disbursed_amount', 'asset_cost', 'ltv', 'branch_id', 'supplier_id',\n",
              "       'manufacturer_id', 'Current_pincode_ID', 'Employment.Type', 'State_ID',\n",
              "       'Employee_code_ID', 'PERFORM_CNS.SCORE',\n",
              "       'PERFORM_CNS.SCORE.DESCRIPTION', 'PRI.NO.OF.ACCTS', 'PRI.ACTIVE.ACCTS',\n",
              "       'PRI.OVERDUE.ACCTS', 'PRI.CURRENT.BALANCE', 'PRI.SANCTIONED.AMOUNT',\n",
              "       'PRI.DISBURSED.AMOUNT', 'SEC.NO.OF.ACCTS', 'SEC.ACTIVE.ACCTS',\n",
              "       'SEC.OVERDUE.ACCTS', 'SEC.CURRENT.BALANCE', 'SEC.SANCTIONED.AMOUNT',\n",
              "       'SEC.DISBURSED.AMOUNT', 'PRIMARY.INSTAL.AMT', 'SEC.INSTAL.AMT',\n",
              "       'NEW.ACCTS.IN.LAST.SIX.MONTHS', 'DELINQUENT.ACCTS.IN.LAST.SIX.MONTHS',\n",
              "       'AVERAGE.ACCT.AGE', 'CREDIT.HISTORY.LENGTH', 'NO.OF_INQUIRIES',\n",
              "       'loan_default', 'Age', 'total_flags', 'creditscoreavg',\n",
              "       'DisbursalDate_quarter'],\n",
              "      dtype='object')"
            ]
          },
          "metadata": {
            "tags": []
          },
          "execution_count": 50
        }
      ]
    },
    {
      "metadata": {
        "id": "31ZPkTWxcJF9",
        "colab_type": "code",
        "outputId": "e80271d1-7cba-4f40-d884-f55f40a33583",
        "colab": {
          "base_uri": "https://localhost:8080/",
          "height": 34
        }
      },
      "cell_type": "code",
      "source": [
        "df.shape"
      ],
      "execution_count": 0,
      "outputs": [
        {
          "output_type": "execute_result",
          "data": {
            "text/plain": [
              "(233154, 36)"
            ]
          },
          "metadata": {
            "tags": []
          },
          "execution_count": 52
        }
      ]
    },
    {
      "metadata": {
        "id": "1WLW-LWIdi_S",
        "colab_type": "code",
        "colab": {}
      },
      "cell_type": "code",
      "source": [
        "datat=df.copy()"
      ],
      "execution_count": 0,
      "outputs": []
    },
    {
      "metadata": {
        "id": "ynz4pwcQdRcX",
        "colab_type": "code",
        "colab": {}
      },
      "cell_type": "code",
      "source": [
        "X=df.drop(columns=['loan_default'])\n",
        "Y=df['loan_default']"
      ],
      "execution_count": 0,
      "outputs": []
    },
    {
      "metadata": {
        "id": "oU1GsRxvc54v",
        "colab_type": "code",
        "colab": {}
      },
      "cell_type": "code",
      "source": [
        "X_train,X_test,y_train,y_test=train_test_split(X,Y,test_size=0.20,random_state=30)"
      ],
      "execution_count": 0,
      "outputs": []
    },
    {
      "metadata": {
        "id": "OKP4f5bqcvCM",
        "colab_type": "code",
        "outputId": "2d17fb61-6386-44a1-8797-4633cb536f37",
        "colab": {
          "base_uri": "https://localhost:8080/",
          "height": 230
        }
      },
      "cell_type": "code",
      "source": [
        "from sklearn.ensemble import AdaBoostClassifier\n",
        "from sklearn.metrics import confusion_matrix\n",
        "from sklearn.metrics import classification_report\n",
        "from sklearn.metrics import confusion_matrix,roc_auc_score\n",
        "\n",
        "model_ada = AdaBoostClassifier()\n",
        "model_ada.fit(X_train, y_train)\n",
        "\n",
        "y_pred = model_ada.predict(X_test)\n",
        "\n",
        "print(\"Training Accuracy: \", model_ada.score(X_train, y_train))\n",
        "print('Testing Accuarcy: ', model_ada.score(X_test, y_test))\n",
        "\n",
        "# making a classification report\n",
        "cr = classification_report(y_test,  y_pred)\n",
        "print(cr)\n",
        "\n",
        "# making a confusion matrix\n",
        "cm = confusion_matrix(y_test, y_pred)\n",
        "print(\"roc_auc_score: \",roc_auc_score(y_test,y_pred))"
      ],
      "execution_count": 0,
      "outputs": [
        {
          "output_type": "stream",
          "text": [
            "Training Accuracy:  0.7827399301962761\n",
            "Testing Accuarcy:  0.7827410949797345\n",
            "              precision    recall  f1-score   support\n",
            "\n",
            "           0       0.78      1.00      0.88     36508\n",
            "           1       0.48      0.01      0.02     10123\n",
            "\n",
            "   micro avg       0.78      0.78      0.78     46631\n",
            "   macro avg       0.63      0.50      0.45     46631\n",
            "weighted avg       0.72      0.78      0.69     46631\n",
            "\n",
            "roc_auc_score:  0.5040312689040395\n"
          ],
          "name": "stdout"
        }
      ]
    },
    {
      "metadata": {
        "id": "_lot3_mWnwga",
        "colab_type": "code",
        "outputId": "d049cde7-23c8-47db-b398-f103db4dadf5",
        "colab": {
          "base_uri": "https://localhost:8080/",
          "height": 641
        }
      },
      "cell_type": "code",
      "source": [
        "#Feature selection\n",
        "from sklearn import model_selection, preprocessing\n",
        "import xgboost as xgb\n",
        "xgb_params = {\n",
        "    'eta': 0.05,\n",
        "    'max_depth': 8,\n",
        "    'subsample': 0.7,\n",
        "    'colsample_bytree': 0.7,\n",
        "    'objective': 'reg:linear',\n",
        "    'eval_metric': 'rmse',\n",
        "    'silent': 1\n",
        "}\n",
        "dtrain = xgb.DMatrix(X, Y, feature_names=X.columns.values)\n",
        "model = xgb.train(dict(xgb_params, silent=0), dtrain, num_boost_round=100)\n",
        "\n",
        "featureImportance = model.get_fscore()\n",
        "features = pd.DataFrame()\n",
        "features['features'] = featureImportance.keys()\n",
        "features['importance'] = featureImportance.values()\n",
        "features.sort_values(by=['importance'],ascending=False,inplace=True)\n",
        "fig,ax= plt.subplots()\n",
        "fig.set_size_inches(20,10)\n",
        "plt.xticks(rotation=90)\n",
        "import seaborn as sn\n",
        "sn.barplot(data=features.head(140),x=\"importance\",y=\"features\",ax=ax,orient=\"h\",color=\"#34495e\")"
      ],
      "execution_count": 0,
      "outputs": [
        {
          "output_type": "execute_result",
          "data": {
            "text/plain": [
              "<matplotlib.axes._subplots.AxesSubplot at 0x7fc0d8522cc0>"
            ]
          },
          "metadata": {
            "tags": []
          },
          "execution_count": 58
        },
        {
          "output_type": "display_data",
          "data": {
            "image/png": "[encoded data removed]",
            "text/plain": [
              "<Figure size 1440x720 with 1 Axes>"
            ]
          },
          "metadata": {
            "tags": []
          }
        }
      ]
    },
    {
      "metadata": {
        "id": "gU7uo18pfQfE",
        "colab_type": "code",
        "outputId": "c6898bfb-7d5c-4156-f8fa-1ba1a5aee8a7",
        "colab": {
          "base_uri": "https://localhost:8080/",
          "height": 638
        }
      },
      "cell_type": "code",
      "source": [
        "topFeatures = features[\"features\"].tolist()[:40]\n",
        "topFeatures   #we will take all the features for building the modek else the roc value falls "
      ],
      "execution_count": 0,
      "outputs": [
        {
          "output_type": "execute_result",
          "data": {
            "text/plain": [
              "['Current_pincode_ID',\n",
              " 'ltv',\n",
              " 'disbursed_amount',\n",
              " 'asset_cost',\n",
              " 'supplier_id',\n",
              " 'Employee_code_ID',\n",
              " 'Age',\n",
              " 'branch_id',\n",
              " 'PERFORM_CNS.SCORE',\n",
              " 'creditscoreavg',\n",
              " 'PRIMARY.INSTAL.AMT',\n",
              " 'PRI.CURRENT.BALANCE',\n",
              " 'CREDIT.HISTORY.LENGTH',\n",
              " 'PRI.SANCTIONED.AMOUNT',\n",
              " 'PRI.NO.OF.ACCTS',\n",
              " 'AVERAGE.ACCT.AGE',\n",
              " 'PRI.DISBURSED.AMOUNT',\n",
              " 'NO.OF_INQUIRIES',\n",
              " 'manufacturer_id',\n",
              " 'State_ID',\n",
              " 'DisbursalDate_quarter',\n",
              " 'PRI.OVERDUE.ACCTS',\n",
              " 'DELINQUENT.ACCTS.IN.LAST.SIX.MONTHS',\n",
              " 'PERFORM_CNS.SCORE.DESCRIPTION',\n",
              " 'PRI.ACTIVE.ACCTS',\n",
              " 'NEW.ACCTS.IN.LAST.SIX.MONTHS',\n",
              " 'Employment.Type',\n",
              " 'SEC.CURRENT.BALANCE',\n",
              " 'total_flags',\n",
              " 'SEC.NO.OF.ACCTS',\n",
              " 'SEC.SANCTIONED.AMOUNT',\n",
              " 'SEC.INSTAL.AMT',\n",
              " 'SEC.OVERDUE.ACCTS',\n",
              " 'SEC.DISBURSED.AMOUNT',\n",
              " 'SEC.ACTIVE.ACCTS']"
            ]
          },
          "metadata": {
            "tags": []
          },
          "execution_count": 59
        }
      ]
    },
    {
      "metadata": {
        "id": "R8CCoOXoXQj_",
        "colab_type": "code",
        "colab": {}
      },
      "cell_type": "code",
      "source": [
        "X_train,X_test,y_train,y_test=train_test_split(X,Y,test_size=0.20,random_state=30)"
      ],
      "execution_count": 0,
      "outputs": []
    },
    {
      "metadata": {
        "id": "a0egjpqu6LLo",
        "colab_type": "code",
        "outputId": "0f943927-c35a-4270-9587-f448356782c1",
        "colab": {
          "base_uri": "https://localhost:8080/",
          "height": 212
        }
      },
      "cell_type": "code",
      "source": [
        "# Decision Tree Classifier with startified k fold\n",
        "from sklearn.metrics import confusion_matrix,roc_auc_score\n",
        "auc=[]\n",
        "from sklearn.model_selection import KFold,StratifiedKFold\n",
        "fold=StratifiedKFold(n_splits=10,shuffle=True,random_state=1994)\n",
        "i=1\n",
        "for train_index, test_index in fold.split(X_train,y_train):\n",
        "    X_trainn, X_testt = X_train.iloc[train_index], X_train.iloc[test_index]\n",
        "    y_trainn, y_testt = y_train.iloc[train_index], y_train.iloc[test_index]\n",
        "    m=DecisionTreeClassifier(random_state=42)\n",
        "    m.fit(X_trainn,y_trainn)\n",
        "    preds=m.predict_proba(X_testt)[:,-1]\n",
        "    print(\"roc_auc_score: \",roc_auc_score(y_testt,preds))\n",
        "    auc.append(roc_auc_score(y_testt,preds))\n",
        "print(\"final roc_auc_score:\",np.mean(auc))  "
      ],
      "execution_count": 0,
      "outputs": [
        {
          "output_type": "stream",
          "text": [
            "roc_auc_score:  0.5296474916726416\n",
            "roc_auc_score:  0.5348296027727715\n",
            "roc_auc_score:  0.5330503424937153\n",
            "roc_auc_score:  0.5354280560937337\n",
            "roc_auc_score:  0.5289639653900091\n",
            "roc_auc_score:  0.5288475691372755\n",
            "roc_auc_score:  0.524299435253081\n",
            "roc_auc_score:  0.5277620006796494\n",
            "roc_auc_score:  0.5287308224743468\n",
            "roc_auc_score:  0.5267484563110238\n",
            "final roc_auc_score: 0.5298307742278248\n"
          ],
          "name": "stdout"
        }
      ]
    },
    {
      "metadata": {
        "id": "V2nxl7mVAsLE",
        "colab_type": "code",
        "outputId": "2efd613d-3b4d-4bf5-81f7-a1adcbd1ff1b",
        "colab": {
          "base_uri": "https://localhost:8080/",
          "height": 212
        }
      },
      "cell_type": "code",
      "source": [
        "# Random Forest Classifier\n",
        "from sklearn.metrics import confusion_matrix,roc_auc_score\n",
        "auc=[]\n",
        "from sklearn.model_selection import KFold,StratifiedKFold\n",
        "fold=StratifiedKFold(n_splits=10,shuffle=True,random_state=1994)\n",
        "i=1\n",
        "for train_index, test_index in fold.split(X_train,y_train):\n",
        "    X_trainn, X_testt = X_train.iloc[train_index], X_train.iloc[test_index]\n",
        "    y_trainn, y_testt = y_train.iloc[train_index], y_train.iloc[test_index]\n",
        "    m=RandomForestClassifier(n_estimators = 5, criterion = 'entropy')\n",
        "    m.fit(X_trainn,y_trainn)\n",
        "    predstest=m.predict_proba(X_testt)[:,-1]\n",
        "    print(\"roc_auc_score: \",roc_auc_score(y_testt,predstest))\n",
        "    auc.append(roc_auc_score(y_testt,predstest))\n",
        "print(\"final roc_auc_score:\",np.mean(auc))  \n"
      ],
      "execution_count": 0,
      "outputs": [
        {
          "output_type": "stream",
          "text": [
            "roc_auc_score:  0.5624981101474076\n",
            "roc_auc_score:  0.5685540941597451\n",
            "roc_auc_score:  0.5680477574121288\n",
            "roc_auc_score:  0.5755929706345149\n",
            "roc_auc_score:  0.5710420195659863\n",
            "roc_auc_score:  0.5772551413303176\n",
            "roc_auc_score:  0.5650844690039315\n",
            "roc_auc_score:  0.5731704631683773\n",
            "roc_auc_score:  0.5700709898664496\n",
            "roc_auc_score:  0.5648606758614492\n",
            "final roc_auc_score: 0.5696176691150308\n"
          ],
          "name": "stdout"
        }
      ]
    },
    {
      "metadata": {
        "id": "5l0J1pQ00Sc9",
        "colab_type": "code",
        "outputId": "3c027594-aa42-40e2-c087-85106548a77d",
        "colab": {
          "base_uri": "https://localhost:8080/",
          "height": 212
        }
      },
      "cell_type": "code",
      "source": [
        "# eXtreme Gradient Boosting Classifier (XGBClassifier)\n",
        "#defualt values \n",
        "\n",
        "from sklearn.metrics import accuracy_score,confusion_matrix,roc_auc_score\n",
        "auc=[]\n",
        "from sklearn.model_selection import KFold,StratifiedKFold\n",
        "fold=StratifiedKFold(n_splits=10,shuffle=True,random_state=1994)\n",
        "i=1\n",
        "for train_index, test_index in fold.split(X_train,y_train):\n",
        "    X_trainn, X_testt = X_train.iloc[train_index], X_train.iloc[test_index]\n",
        "    y_trainn, y_testt = y_train.iloc[train_index], y_train.iloc[test_index]\n",
        "    m=XGBClassifier()\n",
        "    m.fit(X_trainn,y_trainn)\n",
        "    preds=m.predict_proba(X_testt)[:,-1]\n",
        "    print(\"roc_auc_score: \",roc_auc_score(y_testt,preds))\n",
        "    auc.append(roc_auc_score(y_testt,preds))\n",
        "print(\"final roc_auc_score:\",np.mean(auc))"
      ],
      "execution_count": 0,
      "outputs": [
        {
          "output_type": "stream",
          "text": [
            "roc_auc_score:  0.6562463830673537\n",
            "roc_auc_score:  0.6575181650770934\n",
            "roc_auc_score:  0.653062602944118\n",
            "roc_auc_score:  0.6582006766737701\n",
            "roc_auc_score:  0.6464859751121887\n",
            "roc_auc_score:  0.6612117106769202\n",
            "roc_auc_score:  0.65342924677731\n",
            "roc_auc_score:  0.6555100450894741\n",
            "roc_auc_score:  0.6595541325094552\n",
            "roc_auc_score:  0.6526739727258382\n",
            "final roc_auc_score: 0.6553892910653522\n"
          ],
          "name": "stdout"
        }
      ]
    },
    {
      "metadata": {
        "id": "8tC6OGjU0dXm",
        "colab_type": "code",
        "outputId": "dbdc7ed7-ad27-478f-c81f-9a474b751c4b",
        "colab": {
          "base_uri": "https://localhost:8080/",
          "height": 34
        }
      },
      "cell_type": "code",
      "source": [
        "#Tunning\n",
        "#Round 1: Tune max_depth and min_child_weight\n",
        "from sklearn.model_selection import GridSearchCV\n",
        "\n",
        "# Define a new XGBoost Classifier with default parameters\n",
        "select_xgb_clf = XGBClassifier(learning_rate=0.1, n_estimators=100, seed=None)\n",
        "\n",
        "#here i m fixing 2 parameters learning rate and nestimators\n",
        "\n",
        "# Set a list of parameters\n",
        "param_grid = {\n",
        "    \n",
        "            'max_depth':[3,4,5],\n",
        "            'min_child_weight':[3,4,5]\n",
        "}\n",
        "grid_clf = GridSearchCV(select_xgb_clf,param_grid,cv=5,scoring='roc_auc' )\n",
        "# Train the model\n",
        "grid_clf.fit(X_trainn,y_trainn)\n",
        "print(grid_clf.best_params_, grid_clf.best_score_)"
      ],
      "execution_count": 0,
      "outputs": [
        {
          "output_type": "stream",
          "text": [
            "{'max_depth': 5, 'min_child_weight': 5} 0.6616494080056438\n"
          ],
          "name": "stdout"
        }
      ]
    },
    {
      "metadata": {
        "id": "g9TmpyXfHh3e",
        "colab_type": "code",
        "outputId": "71af2751-9675-4544-8c28-c7abc8328c03",
        "colab": {
          "base_uri": "https://localhost:8080/",
          "height": 217
        }
      },
      "cell_type": "code",
      "source": [
        "df.head()"
      ],
      "execution_count": 0,
      "outputs": [
        {
          "output_type": "execute_result",
          "data": {
            "text/html": [
              "<div>\n",
              "<style scoped>\n",
              "    .dataframe tbody tr th:only-of-type {\n",
              "        vertical-align: middle;\n",
              "    }\n",
              "\n",
              "    .dataframe tbody tr th {\n",
              "        vertical-align: top;\n",
              "    }\n",
              "\n",
              "    .dataframe thead th {\n",
              "        text-align: right;\n",
              "    }\n",
              "</style>\n",
              "<table border=\"1\" class=\"dataframe\">\n",
              "  <thead>\n",
              "    <tr style=\"text-align: right;\">\n",
              "      <th></th>\n",
              "      <th>disbursed_amount</th>\n",
              "      <th>asset_cost</th>\n",
              "      <th>ltv</th>\n",
              "      <th>branch_id</th>\n",
              "      <th>supplier_id</th>\n",
              "      <th>manufacturer_id</th>\n",
              "      <th>Current_pincode_ID</th>\n",
              "      <th>Employment.Type</th>\n",
              "      <th>State_ID</th>\n",
              "      <th>Employee_code_ID</th>\n",
              "      <th>PERFORM_CNS.SCORE</th>\n",
              "      <th>PERFORM_CNS.SCORE.DESCRIPTION</th>\n",
              "      <th>PRI.NO.OF.ACCTS</th>\n",
              "      <th>PRI.ACTIVE.ACCTS</th>\n",
              "      <th>PRI.OVERDUE.ACCTS</th>\n",
              "      <th>PRI.CURRENT.BALANCE</th>\n",
              "      <th>PRI.SANCTIONED.AMOUNT</th>\n",
              "      <th>PRI.DISBURSED.AMOUNT</th>\n",
              "      <th>SEC.NO.OF.ACCTS</th>\n",
              "      <th>SEC.ACTIVE.ACCTS</th>\n",
              "      <th>SEC.OVERDUE.ACCTS</th>\n",
              "      <th>SEC.CURRENT.BALANCE</th>\n",
              "      <th>SEC.SANCTIONED.AMOUNT</th>\n",
              "      <th>SEC.DISBURSED.AMOUNT</th>\n",
              "      <th>PRIMARY.INSTAL.AMT</th>\n",
              "      <th>SEC.INSTAL.AMT</th>\n",
              "      <th>NEW.ACCTS.IN.LAST.SIX.MONTHS</th>\n",
              "      <th>DELINQUENT.ACCTS.IN.LAST.SIX.MONTHS</th>\n",
              "      <th>AVERAGE.ACCT.AGE</th>\n",
              "      <th>CREDIT.HISTORY.LENGTH</th>\n",
              "      <th>NO.OF_INQUIRIES</th>\n",
              "      <th>loan_default</th>\n",
              "      <th>Age</th>\n",
              "      <th>total_flags</th>\n",
              "      <th>creditscoreavg</th>\n",
              "      <th>DisbursalDate_quarter</th>\n",
              "    </tr>\n",
              "  </thead>\n",
              "  <tbody>\n",
              "    <tr>\n",
              "      <th>0</th>\n",
              "      <td>50578</td>\n",
              "      <td>58400</td>\n",
              "      <td>89.55</td>\n",
              "      <td>67</td>\n",
              "      <td>22807</td>\n",
              "      <td>45</td>\n",
              "      <td>1441</td>\n",
              "      <td>1</td>\n",
              "      <td>6</td>\n",
              "      <td>1998</td>\n",
              "      <td>0</td>\n",
              "      <td>0</td>\n",
              "      <td>0</td>\n",
              "      <td>0</td>\n",
              "      <td>0</td>\n",
              "      <td>0</td>\n",
              "      <td>0</td>\n",
              "      <td>0</td>\n",
              "      <td>0</td>\n",
              "      <td>0</td>\n",
              "      <td>0</td>\n",
              "      <td>0</td>\n",
              "      <td>0</td>\n",
              "      <td>0</td>\n",
              "      <td>0</td>\n",
              "      <td>0</td>\n",
              "      <td>0</td>\n",
              "      <td>0</td>\n",
              "      <td>0.00</td>\n",
              "      <td>0.00</td>\n",
              "      <td>0</td>\n",
              "      <td>0</td>\n",
              "      <td>35</td>\n",
              "      <td>1</td>\n",
              "      <td>0.00</td>\n",
              "      <td>1</td>\n",
              "    </tr>\n",
              "    <tr>\n",
              "      <th>1</th>\n",
              "      <td>47145</td>\n",
              "      <td>65550</td>\n",
              "      <td>73.23</td>\n",
              "      <td>67</td>\n",
              "      <td>22807</td>\n",
              "      <td>45</td>\n",
              "      <td>1502</td>\n",
              "      <td>2</td>\n",
              "      <td>6</td>\n",
              "      <td>1998</td>\n",
              "      <td>598</td>\n",
              "      <td>3</td>\n",
              "      <td>1</td>\n",
              "      <td>1</td>\n",
              "      <td>1</td>\n",
              "      <td>27600</td>\n",
              "      <td>50200</td>\n",
              "      <td>50200</td>\n",
              "      <td>0</td>\n",
              "      <td>0</td>\n",
              "      <td>0</td>\n",
              "      <td>0</td>\n",
              "      <td>0</td>\n",
              "      <td>0</td>\n",
              "      <td>1991</td>\n",
              "      <td>0</td>\n",
              "      <td>0</td>\n",
              "      <td>1</td>\n",
              "      <td>1.11</td>\n",
              "      <td>1.11</td>\n",
              "      <td>0</td>\n",
              "      <td>1</td>\n",
              "      <td>34</td>\n",
              "      <td>1</td>\n",
              "      <td>17.59</td>\n",
              "      <td>3</td>\n",
              "    </tr>\n",
              "    <tr>\n",
              "      <th>2</th>\n",
              "      <td>53278</td>\n",
              "      <td>61360</td>\n",
              "      <td>89.63</td>\n",
              "      <td>67</td>\n",
              "      <td>22807</td>\n",
              "      <td>45</td>\n",
              "      <td>1497</td>\n",
              "      <td>2</td>\n",
              "      <td>6</td>\n",
              "      <td>1998</td>\n",
              "      <td>0</td>\n",
              "      <td>0</td>\n",
              "      <td>0</td>\n",
              "      <td>0</td>\n",
              "      <td>0</td>\n",
              "      <td>0</td>\n",
              "      <td>0</td>\n",
              "      <td>0</td>\n",
              "      <td>0</td>\n",
              "      <td>0</td>\n",
              "      <td>0</td>\n",
              "      <td>0</td>\n",
              "      <td>0</td>\n",
              "      <td>0</td>\n",
              "      <td>0</td>\n",
              "      <td>0</td>\n",
              "      <td>0</td>\n",
              "      <td>0</td>\n",
              "      <td>0.00</td>\n",
              "      <td>0.00</td>\n",
              "      <td>0</td>\n",
              "      <td>0</td>\n",
              "      <td>34</td>\n",
              "      <td>1</td>\n",
              "      <td>0.00</td>\n",
              "      <td>1</td>\n",
              "    </tr>\n",
              "    <tr>\n",
              "      <th>3</th>\n",
              "      <td>57513</td>\n",
              "      <td>66113</td>\n",
              "      <td>88.48</td>\n",
              "      <td>67</td>\n",
              "      <td>22807</td>\n",
              "      <td>45</td>\n",
              "      <td>1501</td>\n",
              "      <td>2</td>\n",
              "      <td>6</td>\n",
              "      <td>1998</td>\n",
              "      <td>305</td>\n",
              "      <td>5</td>\n",
              "      <td>3</td>\n",
              "      <td>0</td>\n",
              "      <td>0</td>\n",
              "      <td>0</td>\n",
              "      <td>0</td>\n",
              "      <td>0</td>\n",
              "      <td>0</td>\n",
              "      <td>0</td>\n",
              "      <td>0</td>\n",
              "      <td>0</td>\n",
              "      <td>0</td>\n",
              "      <td>0</td>\n",
              "      <td>31</td>\n",
              "      <td>0</td>\n",
              "      <td>0</td>\n",
              "      <td>0</td>\n",
              "      <td>0.80</td>\n",
              "      <td>1.30</td>\n",
              "      <td>1</td>\n",
              "      <td>1</td>\n",
              "      <td>26</td>\n",
              "      <td>1</td>\n",
              "      <td>11.73</td>\n",
              "      <td>4</td>\n",
              "    </tr>\n",
              "    <tr>\n",
              "      <th>4</th>\n",
              "      <td>52378</td>\n",
              "      <td>60300</td>\n",
              "      <td>88.39</td>\n",
              "      <td>67</td>\n",
              "      <td>22807</td>\n",
              "      <td>45</td>\n",
              "      <td>1495</td>\n",
              "      <td>2</td>\n",
              "      <td>6</td>\n",
              "      <td>1998</td>\n",
              "      <td>0</td>\n",
              "      <td>0</td>\n",
              "      <td>0</td>\n",
              "      <td>0</td>\n",
              "      <td>0</td>\n",
              "      <td>0</td>\n",
              "      <td>0</td>\n",
              "      <td>0</td>\n",
              "      <td>0</td>\n",
              "      <td>0</td>\n",
              "      <td>0</td>\n",
              "      <td>0</td>\n",
              "      <td>0</td>\n",
              "      <td>0</td>\n",
              "      <td>0</td>\n",
              "      <td>0</td>\n",
              "      <td>0</td>\n",
              "      <td>0</td>\n",
              "      <td>0.00</td>\n",
              "      <td>0.00</td>\n",
              "      <td>1</td>\n",
              "      <td>1</td>\n",
              "      <td>42</td>\n",
              "      <td>1</td>\n",
              "      <td>0.00</td>\n",
              "      <td>3</td>\n",
              "    </tr>\n",
              "  </tbody>\n",
              "</table>\n",
              "</div>"
            ],
            "text/plain": [
              "   disbursed_amount  asset_cost    ltv  branch_id  supplier_id  \\\n",
              "0             50578       58400  89.55         67        22807   \n",
              "1             47145       65550  73.23         67        22807   \n",
              "2             53278       61360  89.63         67        22807   \n",
              "3             57513       66113  88.48         67        22807   \n",
              "4             52378       60300  88.39         67        22807   \n",
              "\n",
              "   manufacturer_id  Current_pincode_ID  Employment.Type  State_ID  \\\n",
              "0               45                1441                1         6   \n",
              "1               45                1502                2         6   \n",
              "2               45                1497                2         6   \n",
              "3               45                1501                2         6   \n",
              "4               45                1495                2         6   \n",
              "\n",
              "   Employee_code_ID  PERFORM_CNS.SCORE  PERFORM_CNS.SCORE.DESCRIPTION  \\\n",
              "0              1998                  0                              0   \n",
              "1              1998                598                              3   \n",
              "2              1998                  0                              0   \n",
              "3              1998                305                              5   \n",
              "4              1998                  0                              0   \n",
              "\n",
              "   PRI.NO.OF.ACCTS  PRI.ACTIVE.ACCTS  PRI.OVERDUE.ACCTS  PRI.CURRENT.BALANCE  \\\n",
              "0                0                 0                  0                    0   \n",
              "1                1                 1                  1                27600   \n",
              "2                0                 0                  0                    0   \n",
              "3                3                 0                  0                    0   \n",
              "4                0                 0                  0                    0   \n",
              "\n",
              "   PRI.SANCTIONED.AMOUNT  PRI.DISBURSED.AMOUNT  SEC.NO.OF.ACCTS  \\\n",
              "0                      0                     0                0   \n",
              "1                  50200                 50200                0   \n",
              "2                      0                     0                0   \n",
              "3                      0                     0                0   \n",
              "4                      0                     0                0   \n",
              "\n",
              "   SEC.ACTIVE.ACCTS  SEC.OVERDUE.ACCTS  SEC.CURRENT.BALANCE  \\\n",
              "0                 0                  0                    0   \n",
              "1                 0                  0                    0   \n",
              "2                 0                  0                    0   \n",
              "3                 0                  0                    0   \n",
              "4                 0                  0                    0   \n",
              "\n",
              "   SEC.SANCTIONED.AMOUNT  SEC.DISBURSED.AMOUNT  PRIMARY.INSTAL.AMT  \\\n",
              "0                      0                     0                   0   \n",
              "1                      0                     0                1991   \n",
              "2                      0                     0                   0   \n",
              "3                      0                     0                  31   \n",
              "4                      0                     0                   0   \n",
              "\n",
              "   SEC.INSTAL.AMT  NEW.ACCTS.IN.LAST.SIX.MONTHS  \\\n",
              "0               0                             0   \n",
              "1               0                             0   \n",
              "2               0                             0   \n",
              "3               0                             0   \n",
              "4               0                             0   \n",
              "\n",
              "   DELINQUENT.ACCTS.IN.LAST.SIX.MONTHS  AVERAGE.ACCT.AGE  \\\n",
              "0                                    0              0.00   \n",
              "1                                    1              1.11   \n",
              "2                                    0              0.00   \n",
              "3                                    0              0.80   \n",
              "4                                    0              0.00   \n",
              "\n",
              "   CREDIT.HISTORY.LENGTH  NO.OF_INQUIRIES  loan_default  Age  total_flags  \\\n",
              "0                   0.00                0             0   35            1   \n",
              "1                   1.11                0             1   34            1   \n",
              "2                   0.00                0             0   34            1   \n",
              "3                   1.30                1             1   26            1   \n",
              "4                   0.00                1             1   42            1   \n",
              "\n",
              "   creditscoreavg  DisbursalDate_quarter  \n",
              "0            0.00                      1  \n",
              "1           17.59                      3  \n",
              "2            0.00                      1  \n",
              "3           11.73                      4  \n",
              "4            0.00                      3  "
            ]
          },
          "metadata": {
            "tags": []
          },
          "execution_count": 65
        }
      ]
    },
    {
      "metadata": {
        "id": "Nju7OrrvFoxy",
        "colab_type": "code",
        "outputId": "da698865-73a0-4227-be02-85296f971a2b",
        "colab": {
          "base_uri": "https://localhost:8080/",
          "height": 34
        }
      },
      "cell_type": "code",
      "source": [
        "#Tune subsample and colsample_bytree\n",
        "# Define a new XGBoost Classifier setting the best value for the above parameter and \n",
        "# default for the rest\n",
        "\n",
        "select_xgb_clf = XGBClassifier(learning_rate=0.1,n_estimators=100, max_depth=5, \n",
        "                                   min_child_weight= 5,seed=None)\n",
        "\n",
        "# Set a list of parameters\n",
        "param_grid = {\n",
        "    \n",
        "            'subsample':[0.6,0.7,0.8,0.9],\n",
        "            'colsample_bytree':[0.6,0.7,0.8,0.9]\n",
        "}\n",
        "grid_clf = GridSearchCV(select_xgb_clf,param_grid,cv=5, scoring='roc_auc')\n",
        "grid_clf.fit(X_trainn,y_trainn)\n",
        "print( grid_clf.best_params_, grid_clf.best_score_)"
      ],
      "execution_count": 0,
      "outputs": [
        {
          "output_type": "stream",
          "text": [
            "{'colsample_bytree': 0.6, 'subsample': 0.9} 0.663128304863448\n"
          ],
          "name": "stdout"
        }
      ]
    },
    {
      "metadata": {
        "id": "4X_Zgltk6hNl",
        "colab_type": "code",
        "outputId": "f3f5ba28-aede-49ac-e246-bdc25afe4993",
        "colab": {
          "base_uri": "https://localhost:8080/",
          "height": 212
        }
      },
      "cell_type": "code",
      "source": [
        "# eXtreme Gradient Boosting Classifier (XGBClassifier)\n",
        "\n",
        "#with parameter tunning done below \n",
        "from sklearn.metrics import accuracy_score,confusion_matrix,roc_auc_score\n",
        "auc=[]\n",
        "from sklearn.model_selection import KFold,StratifiedKFold\n",
        "fold=StratifiedKFold(n_splits=10,shuffle=True,random_state=1994)\n",
        "i=1\n",
        "for train_index, test_index in fold.split(X_train,y_train):\n",
        "    X_trainn, X_testt = X_train.iloc[train_index], X_train.iloc[test_index]\n",
        "    y_trainn, y_testt = y_train.iloc[train_index], y_train.iloc[test_index]\n",
        "    m=XGBClassifier(learning_rate=0.1, n_estimators=100, seed=None,max_depth=5,min_child_weight= 5,colsample_bytree= 0.6,subsample=0.9)   \n",
        "    m.fit(X_trainn,y_trainn)\n",
        "    preds=m.predict_proba(X_testt)[:,-1]\n",
        "    print(\"roc_auc_score: \",roc_auc_score(y_testt,preds))\n",
        "    auc.append(roc_auc_score(y_testt,preds))\n",
        "print(\"final roc_auc_score:\",np.mean(auc))  \n",
        "#0.667"
      ],
      "execution_count": 0,
      "outputs": [
        {
          "output_type": "stream",
          "text": [
            "roc_auc_score:  0.6648941202263507\n",
            "roc_auc_score:  0.6629870179725912\n",
            "roc_auc_score:  0.6617473676847823\n",
            "roc_auc_score:  0.6661451772754452\n",
            "roc_auc_score:  0.6573095625560318\n",
            "roc_auc_score:  0.6673583803501945\n",
            "roc_auc_score:  0.6595031923106839\n",
            "roc_auc_score:  0.6656219562093452\n",
            "roc_auc_score:  0.6674844260844123\n",
            "roc_auc_score:  0.6614659811225101\n",
            "final roc_auc_score: 0.6634517181792347\n"
          ],
          "name": "stdout"
        }
      ]
    },
    {
      "metadata": {
        "id": "b4Xd0MW2ddfJ",
        "colab_type": "code",
        "outputId": "e50ec4ef-0720-497d-f384-b3639f9468f6",
        "colab": {
          "base_uri": "https://localhost:8080/",
          "height": 340
        }
      },
      "cell_type": "code",
      "source": [
        "print(\"final roc_auc_score with tunning :\",np.mean(auc))\n",
        "from sklearn.metrics import accuracy_score,confusion_matrix,roc_auc_score,roc_curve\n",
        "fpr, tpr, _ = roc_curve(y_testt,preds)\n",
        "auc = roc_auc_score(y_testt,preds)\n",
        "plt.plot(fpr,tpr,label=\"data 1, auc=\"+str(auc))\n",
        "plt.legend(loc=4)\n",
        "plt.show()"
      ],
      "execution_count": 0,
      "outputs": [
        {
          "output_type": "stream",
          "text": [
            "final roc_auc_score with tunning : 0.6614659811225101\n"
          ],
          "name": "stdout"
        },
        {
          "output_type": "display_data",
          "data": {
            "image/png": "[encoded data removed]",
            "text/plain": [
              "<Figure size 1296x360 with 1 Axes>"
            ]
          },
          "metadata": {
            "tags": []
          }
        }
      ]
    },
    {
      "metadata": {
        "id": "DryLDvtabxwj",
        "colab_type": "code",
        "outputId": "9406b384-268f-4449-fc02-2e8f84ac214d",
        "colab": {
          "base_uri": "https://localhost:8080/",
          "height": 7501
        }
      },
      "cell_type": "code",
      "source": [
        "#Catboost\n",
        "#default parameters \n",
        "import catboost\n",
        "from sklearn.metrics import accuracy_score,confusion_matrix,roc_auc_score\n",
        "auc=[]\n",
        "\n",
        "from sklearn.model_selection import KFold,StratifiedKFold\n",
        "fold=StratifiedKFold(n_splits=10,shuffle=True,random_state=1994)\n",
        "i=1\n",
        "for train_index, test_index in fold.split(X_train,y_train):\n",
        "    X_trainn, X_testt = X_train.iloc[train_index], X_train.iloc[test_index]\n",
        "    y_trainn, y_testt = y_train.iloc[train_index], y_train.iloc[test_index]\n",
        "    #print(X_test.isnull().sum())\n",
        "    categorical_features_indices = np.where(X_trainn.dtypes =='object')[0]\n",
        "    m=catboost.CatBoostClassifier(n_estimators=40,cat_features=categorical_features_indices)\n",
        "    m.fit(X_trainn,y_trainn)\n",
        "    preds=m.predict_proba(X_testt)[:,-1]\n",
        "    print(\"roc_auc_score: \",roc_auc_score(y_testt,preds))\n",
        "    auc.append(roc_auc_score(y_testt,preds))\n",
        "print(\"final roc_auc_score:\",np.mean(auc))   "
      ],
      "execution_count": 0,
      "outputs": [
        {
          "output_type": "stream",
          "text": [
            "Learning rate set to 0.5\n",
            "0:\tlearn: 0.5535755\ttotal: 196ms\tremaining: 7.63s\n",
            "1:\tlearn: 0.5195546\ttotal: 323ms\tremaining: 6.15s\n",
            "2:\tlearn: 0.5089976\ttotal: 470ms\tremaining: 5.79s\n",
            "3:\tlearn: 0.5049159\ttotal: 601ms\tremaining: 5.41s\n",
            "4:\tlearn: 0.5024197\ttotal: 736ms\tremaining: 5.15s\n",
            "5:\tlearn: 0.5013012\ttotal: 865ms\tremaining: 4.9s\n",
            "6:\tlearn: 0.5001868\ttotal: 992ms\tremaining: 4.68s\n",
            "7:\tlearn: 0.4991696\ttotal: 1.12s\tremaining: 4.5s\n",
            "8:\tlearn: 0.4986050\ttotal: 1.26s\tremaining: 4.34s\n",
            "9:\tlearn: 0.4979646\ttotal: 1.4s\tremaining: 4.2s\n",
            "10:\tlearn: 0.4974443\ttotal: 1.53s\tremaining: 4.03s\n",
            "11:\tlearn: 0.4970437\ttotal: 1.65s\tremaining: 3.86s\n",
            "12:\tlearn: 0.4965057\ttotal: 1.79s\tremaining: 3.73s\n",
            "13:\tlearn: 0.4961967\ttotal: 1.92s\tremaining: 3.56s\n",
            "14:\tlearn: 0.4960036\ttotal: 2.04s\tremaining: 3.4s\n",
            "15:\tlearn: 0.4957334\ttotal: 2.18s\tremaining: 3.27s\n",
            "16:\tlearn: 0.4954353\ttotal: 2.32s\tremaining: 3.13s\n",
            "17:\tlearn: 0.4948382\ttotal: 2.46s\tremaining: 3.01s\n",
            "18:\tlearn: 0.4945272\ttotal: 2.59s\tremaining: 2.86s\n",
            "19:\tlearn: 0.4943322\ttotal: 2.71s\tremaining: 2.71s\n",
            "20:\tlearn: 0.4942109\ttotal: 2.83s\tremaining: 2.56s\n",
            "21:\tlearn: 0.4938656\ttotal: 2.97s\tremaining: 2.43s\n",
            "22:\tlearn: 0.4936303\ttotal: 3.1s\tremaining: 2.29s\n",
            "23:\tlearn: 0.4932551\ttotal: 3.24s\tremaining: 2.16s\n",
            "24:\tlearn: 0.4930674\ttotal: 3.36s\tremaining: 2.01s\n",
            "25:\tlearn: 0.4923840\ttotal: 3.51s\tremaining: 1.89s\n",
            "26:\tlearn: 0.4922504\ttotal: 3.63s\tremaining: 1.75s\n",
            "27:\tlearn: 0.4921244\ttotal: 3.75s\tremaining: 1.61s\n",
            "28:\tlearn: 0.4918572\ttotal: 3.89s\tremaining: 1.48s\n",
            "29:\tlearn: 0.4915998\ttotal: 4.03s\tremaining: 1.34s\n",
            "30:\tlearn: 0.4912704\ttotal: 4.15s\tremaining: 1.21s\n",
            "31:\tlearn: 0.4910025\ttotal: 4.28s\tremaining: 1.07s\n",
            "32:\tlearn: 0.4907318\ttotal: 4.41s\tremaining: 935ms\n",
            "33:\tlearn: 0.4905662\ttotal: 4.55s\tremaining: 802ms\n",
            "34:\tlearn: 0.4903244\ttotal: 4.69s\tremaining: 670ms\n",
            "35:\tlearn: 0.4900715\ttotal: 4.82s\tremaining: 535ms\n",
            "36:\tlearn: 0.4898404\ttotal: 4.95s\tremaining: 402ms\n",
            "37:\tlearn: 0.4896499\ttotal: 5.07s\tremaining: 267ms\n",
            "38:\tlearn: 0.4893965\ttotal: 5.22s\tremaining: 134ms\n",
            "39:\tlearn: 0.4891648\ttotal: 5.37s\tremaining: 0us\n",
            "roc_auc_score:  0.6571462657628927\n",
            "Learning rate set to 0.5\n",
            "0:\tlearn: 0.5523348\ttotal: 156ms\tremaining: 6.08s\n",
            "1:\tlearn: 0.5186477\ttotal: 307ms\tremaining: 5.84s\n",
            "2:\tlearn: 0.5095005\ttotal: 472ms\tremaining: 5.82s\n",
            "3:\tlearn: 0.5052714\ttotal: 630ms\tremaining: 5.67s\n",
            "4:\tlearn: 0.5025638\ttotal: 771ms\tremaining: 5.39s\n",
            "5:\tlearn: 0.5011203\ttotal: 939ms\tremaining: 5.32s\n",
            "6:\tlearn: 0.5001652\ttotal: 1.09s\tremaining: 5.13s\n",
            "7:\tlearn: 0.4992510\ttotal: 1.25s\tremaining: 4.99s\n",
            "8:\tlearn: 0.4988251\ttotal: 1.4s\tremaining: 4.82s\n",
            "9:\tlearn: 0.4980575\ttotal: 1.55s\tremaining: 4.64s\n",
            "10:\tlearn: 0.4976854\ttotal: 1.7s\tremaining: 4.48s\n",
            "11:\tlearn: 0.4972469\ttotal: 1.85s\tremaining: 4.32s\n",
            "12:\tlearn: 0.4964344\ttotal: 2.01s\tremaining: 4.17s\n",
            "13:\tlearn: 0.4960579\ttotal: 2.16s\tremaining: 4.01s\n",
            "14:\tlearn: 0.4956532\ttotal: 2.31s\tremaining: 3.86s\n",
            "15:\tlearn: 0.4953603\ttotal: 2.48s\tremaining: 3.72s\n",
            "16:\tlearn: 0.4950996\ttotal: 2.63s\tremaining: 3.56s\n",
            "17:\tlearn: 0.4948055\ttotal: 2.78s\tremaining: 3.4s\n",
            "18:\tlearn: 0.4944882\ttotal: 2.93s\tremaining: 3.24s\n",
            "19:\tlearn: 0.4943809\ttotal: 3.08s\tremaining: 3.08s\n",
            "20:\tlearn: 0.4942113\ttotal: 3.22s\tremaining: 2.91s\n",
            "21:\tlearn: 0.4939219\ttotal: 3.37s\tremaining: 2.76s\n",
            "22:\tlearn: 0.4937140\ttotal: 3.53s\tremaining: 2.61s\n",
            "23:\tlearn: 0.4934606\ttotal: 3.69s\tremaining: 2.46s\n",
            "24:\tlearn: 0.4932970\ttotal: 3.82s\tremaining: 2.29s\n",
            "25:\tlearn: 0.4928724\ttotal: 3.99s\tremaining: 2.15s\n",
            "26:\tlearn: 0.4926738\ttotal: 4.12s\tremaining: 1.99s\n",
            "27:\tlearn: 0.4924303\ttotal: 4.27s\tremaining: 1.83s\n",
            "28:\tlearn: 0.4920346\ttotal: 4.42s\tremaining: 1.68s\n",
            "29:\tlearn: 0.4918843\ttotal: 4.58s\tremaining: 1.53s\n",
            "30:\tlearn: 0.4915128\ttotal: 4.73s\tremaining: 1.37s\n",
            "31:\tlearn: 0.4911846\ttotal: 4.88s\tremaining: 1.22s\n",
            "32:\tlearn: 0.4909457\ttotal: 5.01s\tremaining: 1.06s\n",
            "33:\tlearn: 0.4907580\ttotal: 5.17s\tremaining: 913ms\n",
            "34:\tlearn: 0.4905490\ttotal: 5.32s\tremaining: 760ms\n",
            "35:\tlearn: 0.4903311\ttotal: 5.48s\tremaining: 608ms\n",
            "36:\tlearn: 0.4900678\ttotal: 5.62s\tremaining: 456ms\n",
            "37:\tlearn: 0.4898531\ttotal: 5.79s\tremaining: 305ms\n",
            "38:\tlearn: 0.4896191\ttotal: 5.93s\tremaining: 152ms\n",
            "39:\tlearn: 0.4894322\ttotal: 6.06s\tremaining: 0us\n",
            "roc_auc_score:  0.6573966648896133\n",
            "Learning rate set to 0.5\n",
            "0:\tlearn: 0.5522372\ttotal: 154ms\tremaining: 6.02s\n",
            "1:\tlearn: 0.5184842\ttotal: 288ms\tremaining: 5.47s\n",
            "2:\tlearn: 0.5094649\ttotal: 437ms\tremaining: 5.38s\n",
            "3:\tlearn: 0.5050929\ttotal: 572ms\tremaining: 5.14s\n",
            "4:\tlearn: 0.5028316\ttotal: 708ms\tremaining: 4.96s\n",
            "5:\tlearn: 0.5014552\ttotal: 857ms\tremaining: 4.86s\n",
            "6:\tlearn: 0.5003254\ttotal: 986ms\tremaining: 4.65s\n",
            "7:\tlearn: 0.4990960\ttotal: 1.11s\tremaining: 4.43s\n",
            "8:\tlearn: 0.4983949\ttotal: 1.24s\tremaining: 4.26s\n",
            "9:\tlearn: 0.4977364\ttotal: 1.38s\tremaining: 4.13s\n",
            "10:\tlearn: 0.4971807\ttotal: 1.5s\tremaining: 3.97s\n",
            "11:\tlearn: 0.4967777\ttotal: 1.64s\tremaining: 3.83s\n",
            "12:\tlearn: 0.4962651\ttotal: 1.78s\tremaining: 3.7s\n",
            "13:\tlearn: 0.4958787\ttotal: 1.94s\tremaining: 3.59s\n",
            "14:\tlearn: 0.4955605\ttotal: 2.07s\tremaining: 3.44s\n",
            "15:\tlearn: 0.4953544\ttotal: 2.2s\tremaining: 3.29s\n",
            "16:\tlearn: 0.4948424\ttotal: 2.33s\tremaining: 3.15s\n",
            "17:\tlearn: 0.4944492\ttotal: 2.47s\tremaining: 3.02s\n",
            "18:\tlearn: 0.4941282\ttotal: 2.59s\tremaining: 2.86s\n",
            "19:\tlearn: 0.4939495\ttotal: 2.72s\tremaining: 2.72s\n",
            "20:\tlearn: 0.4937594\ttotal: 2.86s\tremaining: 2.58s\n",
            "21:\tlearn: 0.4933692\ttotal: 3s\tremaining: 2.45s\n",
            "22:\tlearn: 0.4929153\ttotal: 3.13s\tremaining: 2.31s\n",
            "23:\tlearn: 0.4925322\ttotal: 3.27s\tremaining: 2.18s\n",
            "24:\tlearn: 0.4924248\ttotal: 3.38s\tremaining: 2.03s\n",
            "25:\tlearn: 0.4920499\ttotal: 3.51s\tremaining: 1.89s\n",
            "26:\tlearn: 0.4916912\ttotal: 3.63s\tremaining: 1.75s\n",
            "27:\tlearn: 0.4914504\ttotal: 3.76s\tremaining: 1.61s\n",
            "28:\tlearn: 0.4911932\ttotal: 3.9s\tremaining: 1.48s\n",
            "29:\tlearn: 0.4909306\ttotal: 4.04s\tremaining: 1.35s\n",
            "30:\tlearn: 0.4906815\ttotal: 4.16s\tremaining: 1.21s\n",
            "31:\tlearn: 0.4903967\ttotal: 4.29s\tremaining: 1.07s\n",
            "32:\tlearn: 0.4901804\ttotal: 4.41s\tremaining: 935ms\n",
            "33:\tlearn: 0.4899872\ttotal: 4.55s\tremaining: 803ms\n",
            "34:\tlearn: 0.4896617\ttotal: 4.68s\tremaining: 668ms\n",
            "35:\tlearn: 0.4894711\ttotal: 4.81s\tremaining: 534ms\n",
            "36:\tlearn: 0.4890311\ttotal: 4.96s\tremaining: 402ms\n",
            "37:\tlearn: 0.4888679\ttotal: 5.09s\tremaining: 268ms\n",
            "38:\tlearn: 0.4886815\ttotal: 5.21s\tremaining: 134ms\n",
            "39:\tlearn: 0.4884224\ttotal: 5.33s\tremaining: 0us\n",
            "roc_auc_score:  0.6571191821035914\n",
            "Learning rate set to 0.5\n",
            "0:\tlearn: 0.5537158\ttotal: 144ms\tremaining: 5.63s\n",
            "1:\tlearn: 0.5190028\ttotal: 275ms\tremaining: 5.21s\n",
            "2:\tlearn: 0.5095250\ttotal: 401ms\tremaining: 4.94s\n",
            "3:\tlearn: 0.5058445\ttotal: 543ms\tremaining: 4.89s\n",
            "4:\tlearn: 0.5035145\ttotal: 668ms\tremaining: 4.67s\n",
            "5:\tlearn: 0.5015155\ttotal: 802ms\tremaining: 4.54s\n",
            "6:\tlearn: 0.5004350\ttotal: 939ms\tremaining: 4.42s\n",
            "7:\tlearn: 0.4995211\ttotal: 1.09s\tremaining: 4.35s\n",
            "8:\tlearn: 0.4987634\ttotal: 1.21s\tremaining: 4.18s\n",
            "9:\tlearn: 0.4981223\ttotal: 1.35s\tremaining: 4.04s\n",
            "10:\tlearn: 0.4975595\ttotal: 1.48s\tremaining: 3.9s\n",
            "11:\tlearn: 0.4970552\ttotal: 1.61s\tremaining: 3.75s\n",
            "12:\tlearn: 0.4965952\ttotal: 1.74s\tremaining: 3.61s\n",
            "13:\tlearn: 0.4960557\ttotal: 1.87s\tremaining: 3.47s\n",
            "14:\tlearn: 0.4956516\ttotal: 2s\tremaining: 3.34s\n",
            "15:\tlearn: 0.4953092\ttotal: 2.14s\tremaining: 3.21s\n",
            "16:\tlearn: 0.4950501\ttotal: 2.27s\tremaining: 3.07s\n",
            "17:\tlearn: 0.4948107\ttotal: 2.39s\tremaining: 2.92s\n",
            "18:\tlearn: 0.4945166\ttotal: 2.53s\tremaining: 2.8s\n",
            "19:\tlearn: 0.4943340\ttotal: 2.66s\tremaining: 2.66s\n",
            "20:\tlearn: 0.4939906\ttotal: 2.79s\tremaining: 2.52s\n",
            "21:\tlearn: 0.4937573\ttotal: 2.92s\tremaining: 2.39s\n",
            "22:\tlearn: 0.4934380\ttotal: 3.05s\tremaining: 2.25s\n",
            "23:\tlearn: 0.4932468\ttotal: 3.19s\tremaining: 2.13s\n",
            "24:\tlearn: 0.4929100\ttotal: 3.32s\tremaining: 1.99s\n",
            "25:\tlearn: 0.4925460\ttotal: 3.45s\tremaining: 1.86s\n",
            "26:\tlearn: 0.4921634\ttotal: 3.59s\tremaining: 1.73s\n",
            "27:\tlearn: 0.4919385\ttotal: 3.72s\tremaining: 1.59s\n",
            "28:\tlearn: 0.4917134\ttotal: 3.84s\tremaining: 1.46s\n",
            "29:\tlearn: 0.4913644\ttotal: 3.98s\tremaining: 1.33s\n",
            "30:\tlearn: 0.4911153\ttotal: 4.12s\tremaining: 1.2s\n",
            "31:\tlearn: 0.4909549\ttotal: 4.25s\tremaining: 1.06s\n",
            "32:\tlearn: 0.4907433\ttotal: 4.38s\tremaining: 929ms\n",
            "33:\tlearn: 0.4905153\ttotal: 4.52s\tremaining: 798ms\n",
            "34:\tlearn: 0.4903061\ttotal: 4.65s\tremaining: 664ms\n",
            "35:\tlearn: 0.4901558\ttotal: 4.77s\tremaining: 530ms\n",
            "36:\tlearn: 0.4899587\ttotal: 4.89s\tremaining: 396ms\n",
            "37:\tlearn: 0.4897130\ttotal: 5.02s\tremaining: 264ms\n",
            "38:\tlearn: 0.4894164\ttotal: 5.16s\tremaining: 132ms\n",
            "39:\tlearn: 0.4892830\ttotal: 5.29s\tremaining: 0us\n",
            "roc_auc_score:  0.6592740114777216\n",
            "Learning rate set to 0.5\n",
            "0:\tlearn: 0.5521973\ttotal: 136ms\tremaining: 5.3s\n",
            "1:\tlearn: 0.5183077\ttotal: 264ms\tremaining: 5.02s\n",
            "2:\tlearn: 0.5091748\ttotal: 410ms\tremaining: 5.06s\n",
            "3:\tlearn: 0.5046605\ttotal: 549ms\tremaining: 4.94s\n",
            "4:\tlearn: 0.5021547\ttotal: 684ms\tremaining: 4.79s\n",
            "5:\tlearn: 0.5008435\ttotal: 823ms\tremaining: 4.67s\n",
            "6:\tlearn: 0.4996482\ttotal: 953ms\tremaining: 4.49s\n",
            "7:\tlearn: 0.4985485\ttotal: 1.1s\tremaining: 4.39s\n",
            "8:\tlearn: 0.4978696\ttotal: 1.23s\tremaining: 4.24s\n",
            "9:\tlearn: 0.4973863\ttotal: 1.36s\tremaining: 4.09s\n",
            "10:\tlearn: 0.4966609\ttotal: 1.5s\tremaining: 3.95s\n",
            "11:\tlearn: 0.4961339\ttotal: 1.63s\tremaining: 3.81s\n",
            "12:\tlearn: 0.4957748\ttotal: 1.76s\tremaining: 3.67s\n",
            "13:\tlearn: 0.4953024\ttotal: 1.89s\tremaining: 3.51s\n",
            "14:\tlearn: 0.4949707\ttotal: 2.02s\tremaining: 3.36s\n",
            "15:\tlearn: 0.4946572\ttotal: 2.16s\tremaining: 3.23s\n",
            "16:\tlearn: 0.4942788\ttotal: 2.29s\tremaining: 3.09s\n",
            "17:\tlearn: 0.4939552\ttotal: 2.43s\tremaining: 2.98s\n",
            "18:\tlearn: 0.4937141\ttotal: 2.56s\tremaining: 2.83s\n",
            "19:\tlearn: 0.4934793\ttotal: 2.7s\tremaining: 2.7s\n",
            "20:\tlearn: 0.4932271\ttotal: 2.83s\tremaining: 2.56s\n",
            "21:\tlearn: 0.4930236\ttotal: 2.95s\tremaining: 2.41s\n",
            "22:\tlearn: 0.4928694\ttotal: 3.07s\tremaining: 2.27s\n",
            "23:\tlearn: 0.4927045\ttotal: 3.19s\tremaining: 2.13s\n",
            "24:\tlearn: 0.4924590\ttotal: 3.31s\tremaining: 1.99s\n",
            "25:\tlearn: 0.4922396\ttotal: 3.46s\tremaining: 1.86s\n",
            "26:\tlearn: 0.4919572\ttotal: 3.59s\tremaining: 1.73s\n",
            "27:\tlearn: 0.4917503\ttotal: 3.72s\tremaining: 1.59s\n",
            "28:\tlearn: 0.4915351\ttotal: 3.84s\tremaining: 1.46s\n",
            "29:\tlearn: 0.4913359\ttotal: 3.96s\tremaining: 1.32s\n",
            "30:\tlearn: 0.4910704\ttotal: 4.09s\tremaining: 1.19s\n",
            "31:\tlearn: 0.4908816\ttotal: 4.23s\tremaining: 1.06s\n",
            "32:\tlearn: 0.4905823\ttotal: 4.37s\tremaining: 926ms\n",
            "33:\tlearn: 0.4902934\ttotal: 4.5s\tremaining: 795ms\n",
            "34:\tlearn: 0.4900643\ttotal: 4.64s\tremaining: 662ms\n",
            "35:\tlearn: 0.4898113\ttotal: 4.77s\tremaining: 530ms\n",
            "36:\tlearn: 0.4895730\ttotal: 4.9s\tremaining: 397ms\n",
            "37:\tlearn: 0.4893915\ttotal: 5.02s\tremaining: 264ms\n",
            "38:\tlearn: 0.4890472\ttotal: 5.17s\tremaining: 132ms\n",
            "39:\tlearn: 0.4888672\ttotal: 5.3s\tremaining: 0us\n",
            "roc_auc_score:  0.6494778865769157\n",
            "Learning rate set to 0.5\n",
            "0:\tlearn: 0.5573315\ttotal: 113ms\tremaining: 4.42s\n",
            "1:\tlearn: 0.5214622\ttotal: 246ms\tremaining: 4.67s\n",
            "2:\tlearn: 0.5107807\ttotal: 371ms\tremaining: 4.58s\n",
            "3:\tlearn: 0.5059749\ttotal: 510ms\tremaining: 4.59s\n",
            "4:\tlearn: 0.5033680\ttotal: 635ms\tremaining: 4.44s\n",
            "5:\tlearn: 0.5018700\ttotal: 777ms\tremaining: 4.41s\n",
            "6:\tlearn: 0.5004814\ttotal: 911ms\tremaining: 4.29s\n",
            "7:\tlearn: 0.4994690\ttotal: 1.05s\tremaining: 4.19s\n",
            "8:\tlearn: 0.4987171\ttotal: 1.18s\tremaining: 4.07s\n",
            "9:\tlearn: 0.4981634\ttotal: 1.31s\tremaining: 3.94s\n",
            "10:\tlearn: 0.4976034\ttotal: 1.44s\tremaining: 3.8s\n",
            "11:\tlearn: 0.4970978\ttotal: 1.57s\tremaining: 3.66s\n",
            "12:\tlearn: 0.4967378\ttotal: 1.7s\tremaining: 3.53s\n",
            "13:\tlearn: 0.4964945\ttotal: 1.83s\tremaining: 3.4s\n",
            "14:\tlearn: 0.4961347\ttotal: 1.96s\tremaining: 3.26s\n",
            "15:\tlearn: 0.4957909\ttotal: 2.08s\tremaining: 3.12s\n",
            "16:\tlearn: 0.4955035\ttotal: 2.2s\tremaining: 2.98s\n",
            "17:\tlearn: 0.4950876\ttotal: 2.35s\tremaining: 2.87s\n",
            "18:\tlearn: 0.4947526\ttotal: 2.47s\tremaining: 2.73s\n",
            "19:\tlearn: 0.4945660\ttotal: 2.6s\tremaining: 2.6s\n",
            "20:\tlearn: 0.4943172\ttotal: 2.72s\tremaining: 2.46s\n",
            "21:\tlearn: 0.4940801\ttotal: 2.86s\tremaining: 2.34s\n",
            "22:\tlearn: 0.4936463\ttotal: 2.98s\tremaining: 2.2s\n",
            "23:\tlearn: 0.4932916\ttotal: 3.12s\tremaining: 2.08s\n",
            "24:\tlearn: 0.4928971\ttotal: 3.25s\tremaining: 1.95s\n",
            "25:\tlearn: 0.4927393\ttotal: 3.37s\tremaining: 1.81s\n",
            "26:\tlearn: 0.4924215\ttotal: 3.5s\tremaining: 1.69s\n",
            "27:\tlearn: 0.4921866\ttotal: 3.63s\tremaining: 1.55s\n",
            "28:\tlearn: 0.4919661\ttotal: 3.75s\tremaining: 1.42s\n",
            "29:\tlearn: 0.4916486\ttotal: 3.9s\tremaining: 1.3s\n",
            "30:\tlearn: 0.4913980\ttotal: 4.03s\tremaining: 1.17s\n",
            "31:\tlearn: 0.4910995\ttotal: 4.15s\tremaining: 1.04s\n",
            "32:\tlearn: 0.4908451\ttotal: 4.27s\tremaining: 905ms\n",
            "33:\tlearn: 0.4906009\ttotal: 4.4s\tremaining: 777ms\n",
            "34:\tlearn: 0.4903754\ttotal: 4.52s\tremaining: 646ms\n",
            "35:\tlearn: 0.4902251\ttotal: 4.64s\tremaining: 516ms\n",
            "36:\tlearn: 0.4898656\ttotal: 4.77s\tremaining: 387ms\n",
            "37:\tlearn: 0.4895071\ttotal: 4.92s\tremaining: 259ms\n",
            "38:\tlearn: 0.4892614\ttotal: 5.04s\tremaining: 129ms\n",
            "39:\tlearn: 0.4890441\ttotal: 5.18s\tremaining: 0us\n",
            "roc_auc_score:  0.6591487551479177\n",
            "Learning rate set to 0.5\n",
            "0:\tlearn: 0.5546309\ttotal: 116ms\tremaining: 4.53s\n",
            "1:\tlearn: 0.5202601\ttotal: 263ms\tremaining: 4.99s\n",
            "2:\tlearn: 0.5093564\ttotal: 387ms\tremaining: 4.77s\n",
            "3:\tlearn: 0.5047419\ttotal: 519ms\tremaining: 4.67s\n",
            "4:\tlearn: 0.5025749\ttotal: 648ms\tremaining: 4.53s\n",
            "5:\tlearn: 0.5009897\ttotal: 773ms\tremaining: 4.38s\n",
            "6:\tlearn: 0.4998747\ttotal: 898ms\tremaining: 4.23s\n",
            "7:\tlearn: 0.4993458\ttotal: 1.04s\tremaining: 4.15s\n",
            "8:\tlearn: 0.4986241\ttotal: 1.19s\tremaining: 4.09s\n",
            "9:\tlearn: 0.4977950\ttotal: 1.36s\tremaining: 4.08s\n",
            "10:\tlearn: 0.4973230\ttotal: 1.51s\tremaining: 3.98s\n",
            "11:\tlearn: 0.4968856\ttotal: 1.67s\tremaining: 3.89s\n",
            "12:\tlearn: 0.4965983\ttotal: 1.8s\tremaining: 3.75s\n",
            "13:\tlearn: 0.4961361\ttotal: 1.95s\tremaining: 3.63s\n",
            "14:\tlearn: 0.4958845\ttotal: 2.09s\tremaining: 3.49s\n",
            "15:\tlearn: 0.4955599\ttotal: 2.26s\tremaining: 3.39s\n",
            "16:\tlearn: 0.4952577\ttotal: 2.41s\tremaining: 3.26s\n",
            "17:\tlearn: 0.4950310\ttotal: 2.56s\tremaining: 3.12s\n",
            "18:\tlearn: 0.4946967\ttotal: 2.71s\tremaining: 2.99s\n",
            "19:\tlearn: 0.4945146\ttotal: 2.85s\tremaining: 2.85s\n",
            "20:\tlearn: 0.4941880\ttotal: 3s\tremaining: 2.71s\n",
            "21:\tlearn: 0.4936554\ttotal: 3.16s\tremaining: 2.59s\n",
            "22:\tlearn: 0.4933138\ttotal: 3.34s\tremaining: 2.47s\n",
            "23:\tlearn: 0.4930883\ttotal: 3.49s\tremaining: 2.32s\n",
            "24:\tlearn: 0.4927643\ttotal: 3.64s\tremaining: 2.18s\n",
            "25:\tlearn: 0.4924599\ttotal: 3.79s\tremaining: 2.04s\n",
            "26:\tlearn: 0.4921475\ttotal: 3.96s\tremaining: 1.91s\n",
            "27:\tlearn: 0.4918830\ttotal: 4.11s\tremaining: 1.76s\n",
            "28:\tlearn: 0.4915825\ttotal: 4.25s\tremaining: 1.61s\n",
            "29:\tlearn: 0.4913589\ttotal: 4.41s\tremaining: 1.47s\n",
            "30:\tlearn: 0.4911979\ttotal: 4.56s\tremaining: 1.32s\n",
            "31:\tlearn: 0.4908564\ttotal: 4.72s\tremaining: 1.18s\n",
            "32:\tlearn: 0.4906193\ttotal: 4.87s\tremaining: 1.03s\n",
            "33:\tlearn: 0.4903506\ttotal: 5.03s\tremaining: 887ms\n",
            "34:\tlearn: 0.4901150\ttotal: 5.17s\tremaining: 738ms\n",
            "35:\tlearn: 0.4899395\ttotal: 5.31s\tremaining: 590ms\n",
            "36:\tlearn: 0.4895631\ttotal: 5.47s\tremaining: 444ms\n",
            "37:\tlearn: 0.4893987\ttotal: 5.62s\tremaining: 296ms\n",
            "38:\tlearn: 0.4890068\ttotal: 5.78s\tremaining: 148ms\n",
            "39:\tlearn: 0.4887898\ttotal: 5.94s\tremaining: 0us\n",
            "roc_auc_score:  0.6549348732495194\n",
            "Learning rate set to 0.5\n",
            "0:\tlearn: 0.5542360\ttotal: 136ms\tremaining: 5.32s\n",
            "1:\tlearn: 0.5192133\ttotal: 287ms\tremaining: 5.45s\n",
            "2:\tlearn: 0.5090802\ttotal: 440ms\tremaining: 5.42s\n",
            "3:\tlearn: 0.5047399\ttotal: 597ms\tremaining: 5.37s\n",
            "4:\tlearn: 0.5029262\ttotal: 764ms\tremaining: 5.35s\n",
            "5:\tlearn: 0.5012773\ttotal: 919ms\tremaining: 5.21s\n",
            "6:\tlearn: 0.5003857\ttotal: 1.07s\tremaining: 5.03s\n",
            "7:\tlearn: 0.4994034\ttotal: 1.22s\tremaining: 4.89s\n",
            "8:\tlearn: 0.4986377\ttotal: 1.37s\tremaining: 4.73s\n",
            "9:\tlearn: 0.4976468\ttotal: 1.54s\tremaining: 4.63s\n",
            "10:\tlearn: 0.4971027\ttotal: 1.71s\tremaining: 4.5s\n",
            "11:\tlearn: 0.4964206\ttotal: 1.88s\tremaining: 4.38s\n",
            "12:\tlearn: 0.4959210\ttotal: 2.03s\tremaining: 4.21s\n",
            "13:\tlearn: 0.4955666\ttotal: 2.17s\tremaining: 4.03s\n",
            "14:\tlearn: 0.4952355\ttotal: 2.32s\tremaining: 3.87s\n",
            "15:\tlearn: 0.4948421\ttotal: 2.47s\tremaining: 3.71s\n",
            "16:\tlearn: 0.4946089\ttotal: 2.61s\tremaining: 3.53s\n",
            "17:\tlearn: 0.4941672\ttotal: 2.78s\tremaining: 3.4s\n",
            "18:\tlearn: 0.4937826\ttotal: 2.94s\tremaining: 3.25s\n",
            "19:\tlearn: 0.4934890\ttotal: 3.1s\tremaining: 3.1s\n",
            "20:\tlearn: 0.4932129\ttotal: 3.25s\tremaining: 2.94s\n",
            "21:\tlearn: 0.4930224\ttotal: 3.39s\tremaining: 2.78s\n",
            "22:\tlearn: 0.4928467\ttotal: 3.54s\tremaining: 2.61s\n",
            "23:\tlearn: 0.4926080\ttotal: 3.69s\tremaining: 2.46s\n",
            "24:\tlearn: 0.4923484\ttotal: 3.84s\tremaining: 2.3s\n",
            "25:\tlearn: 0.4921485\ttotal: 3.96s\tremaining: 2.13s\n",
            "26:\tlearn: 0.4918472\ttotal: 4.09s\tremaining: 1.97s\n",
            "27:\tlearn: 0.4915892\ttotal: 4.23s\tremaining: 1.81s\n",
            "28:\tlearn: 0.4913458\ttotal: 4.35s\tremaining: 1.65s\n",
            "29:\tlearn: 0.4911068\ttotal: 4.5s\tremaining: 1.5s\n",
            "30:\tlearn: 0.4908158\ttotal: 4.63s\tremaining: 1.34s\n",
            "31:\tlearn: 0.4906276\ttotal: 4.77s\tremaining: 1.19s\n",
            "32:\tlearn: 0.4903732\ttotal: 4.91s\tremaining: 1.04s\n",
            "33:\tlearn: 0.4901793\ttotal: 5.04s\tremaining: 890ms\n",
            "34:\tlearn: 0.4898555\ttotal: 5.17s\tremaining: 739ms\n",
            "35:\tlearn: 0.4896221\ttotal: 5.31s\tremaining: 590ms\n",
            "36:\tlearn: 0.4893756\ttotal: 5.43s\tremaining: 440ms\n",
            "37:\tlearn: 0.4891885\ttotal: 5.56s\tremaining: 293ms\n",
            "38:\tlearn: 0.4890289\ttotal: 5.67s\tremaining: 145ms\n",
            "39:\tlearn: 0.4888130\ttotal: 5.82s\tremaining: 0us\n",
            "roc_auc_score:  0.659829622223293\n",
            "Learning rate set to 0.5\n",
            "0:\tlearn: 0.5582109\ttotal: 120ms\tremaining: 4.67s\n",
            "1:\tlearn: 0.5217116\ttotal: 259ms\tremaining: 4.92s\n",
            "2:\tlearn: 0.5110783\ttotal: 393ms\tremaining: 4.84s\n",
            "3:\tlearn: 0.5065104\ttotal: 543ms\tremaining: 4.88s\n",
            "4:\tlearn: 0.5040039\ttotal: 668ms\tremaining: 4.68s\n",
            "5:\tlearn: 0.5024845\ttotal: 794ms\tremaining: 4.5s\n",
            "6:\tlearn: 0.5013261\ttotal: 926ms\tremaining: 4.37s\n",
            "7:\tlearn: 0.5005131\ttotal: 1.06s\tremaining: 4.25s\n",
            "8:\tlearn: 0.4993165\ttotal: 1.19s\tremaining: 4.1s\n",
            "9:\tlearn: 0.4985775\ttotal: 1.35s\tremaining: 4.05s\n",
            "10:\tlearn: 0.4978780\ttotal: 1.48s\tremaining: 3.91s\n",
            "11:\tlearn: 0.4973819\ttotal: 1.62s\tremaining: 3.78s\n",
            "12:\tlearn: 0.4967861\ttotal: 1.75s\tremaining: 3.63s\n",
            "13:\tlearn: 0.4963916\ttotal: 1.87s\tremaining: 3.48s\n",
            "14:\tlearn: 0.4961528\ttotal: 2s\tremaining: 3.33s\n",
            "15:\tlearn: 0.4959279\ttotal: 2.12s\tremaining: 3.18s\n",
            "16:\tlearn: 0.4955448\ttotal: 2.24s\tremaining: 3.03s\n",
            "17:\tlearn: 0.4952039\ttotal: 2.38s\tremaining: 2.91s\n",
            "18:\tlearn: 0.4949659\ttotal: 2.51s\tremaining: 2.77s\n",
            "19:\tlearn: 0.4947988\ttotal: 2.65s\tremaining: 2.65s\n",
            "20:\tlearn: 0.4944019\ttotal: 2.78s\tremaining: 2.51s\n",
            "21:\tlearn: 0.4940831\ttotal: 2.92s\tremaining: 2.39s\n",
            "22:\tlearn: 0.4935755\ttotal: 3.05s\tremaining: 2.26s\n",
            "23:\tlearn: 0.4932823\ttotal: 3.19s\tremaining: 2.12s\n",
            "24:\tlearn: 0.4929385\ttotal: 3.32s\tremaining: 1.99s\n",
            "25:\tlearn: 0.4926260\ttotal: 3.45s\tremaining: 1.85s\n",
            "26:\tlearn: 0.4923647\ttotal: 3.57s\tremaining: 1.72s\n",
            "27:\tlearn: 0.4922013\ttotal: 3.7s\tremaining: 1.58s\n",
            "28:\tlearn: 0.4918136\ttotal: 3.83s\tremaining: 1.45s\n",
            "29:\tlearn: 0.4913865\ttotal: 3.98s\tremaining: 1.33s\n",
            "30:\tlearn: 0.4910752\ttotal: 4.11s\tremaining: 1.19s\n",
            "31:\tlearn: 0.4907379\ttotal: 4.25s\tremaining: 1.06s\n",
            "32:\tlearn: 0.4905818\ttotal: 4.36s\tremaining: 925ms\n",
            "33:\tlearn: 0.4903435\ttotal: 4.5s\tremaining: 794ms\n",
            "34:\tlearn: 0.4901055\ttotal: 4.63s\tremaining: 661ms\n",
            "35:\tlearn: 0.4899061\ttotal: 4.76s\tremaining: 529ms\n",
            "36:\tlearn: 0.4896588\ttotal: 4.88s\tremaining: 396ms\n",
            "37:\tlearn: 0.4894977\ttotal: 5.02s\tremaining: 264ms\n",
            "38:\tlearn: 0.4893327\ttotal: 5.14s\tremaining: 132ms\n",
            "39:\tlearn: 0.4891058\ttotal: 5.26s\tremaining: 0us\n",
            "roc_auc_score:  0.6613247176455972\n",
            "Learning rate set to 0.5\n",
            "0:\tlearn: 0.5529937\ttotal: 120ms\tremaining: 4.68s\n",
            "1:\tlearn: 0.5180888\ttotal: 254ms\tremaining: 4.82s\n",
            "2:\tlearn: 0.5080054\ttotal: 396ms\tremaining: 4.89s\n",
            "3:\tlearn: 0.5043413\ttotal: 537ms\tremaining: 4.83s\n",
            "4:\tlearn: 0.5023506\ttotal: 670ms\tremaining: 4.69s\n",
            "5:\tlearn: 0.5011662\ttotal: 800ms\tremaining: 4.53s\n",
            "6:\tlearn: 0.4999413\ttotal: 949ms\tremaining: 4.47s\n",
            "7:\tlearn: 0.4989779\ttotal: 1.07s\tremaining: 4.3s\n",
            "8:\tlearn: 0.4984132\ttotal: 1.21s\tremaining: 4.17s\n",
            "9:\tlearn: 0.4979983\ttotal: 1.34s\tremaining: 4.02s\n",
            "10:\tlearn: 0.4973479\ttotal: 1.47s\tremaining: 3.88s\n",
            "11:\tlearn: 0.4970711\ttotal: 1.61s\tremaining: 3.75s\n",
            "12:\tlearn: 0.4967397\ttotal: 1.73s\tremaining: 3.59s\n",
            "13:\tlearn: 0.4961125\ttotal: 1.86s\tremaining: 3.45s\n",
            "14:\tlearn: 0.4957763\ttotal: 1.99s\tremaining: 3.31s\n",
            "15:\tlearn: 0.4953723\ttotal: 2.13s\tremaining: 3.19s\n",
            "16:\tlearn: 0.4950347\ttotal: 2.26s\tremaining: 3.05s\n",
            "17:\tlearn: 0.4947164\ttotal: 2.39s\tremaining: 2.92s\n",
            "18:\tlearn: 0.4944228\ttotal: 2.52s\tremaining: 2.79s\n",
            "19:\tlearn: 0.4941004\ttotal: 2.64s\tremaining: 2.64s\n",
            "20:\tlearn: 0.4936955\ttotal: 2.78s\tremaining: 2.51s\n",
            "21:\tlearn: 0.4934323\ttotal: 2.9s\tremaining: 2.37s\n",
            "22:\tlearn: 0.4931528\ttotal: 3.04s\tremaining: 2.25s\n",
            "23:\tlearn: 0.4927148\ttotal: 3.18s\tremaining: 2.12s\n",
            "24:\tlearn: 0.4925368\ttotal: 3.31s\tremaining: 1.99s\n",
            "25:\tlearn: 0.4922628\ttotal: 3.45s\tremaining: 1.86s\n",
            "26:\tlearn: 0.4920439\ttotal: 3.58s\tremaining: 1.73s\n",
            "27:\tlearn: 0.4917422\ttotal: 3.72s\tremaining: 1.59s\n",
            "28:\tlearn: 0.4914595\ttotal: 3.84s\tremaining: 1.46s\n",
            "29:\tlearn: 0.4913162\ttotal: 3.97s\tremaining: 1.32s\n",
            "30:\tlearn: 0.4911448\ttotal: 4.09s\tremaining: 1.19s\n",
            "31:\tlearn: 0.4909277\ttotal: 4.23s\tremaining: 1.06s\n",
            "32:\tlearn: 0.4907230\ttotal: 4.34s\tremaining: 920ms\n",
            "33:\tlearn: 0.4905313\ttotal: 4.47s\tremaining: 789ms\n",
            "34:\tlearn: 0.4903401\ttotal: 4.59s\tremaining: 656ms\n",
            "35:\tlearn: 0.4901379\ttotal: 4.72s\tremaining: 525ms\n",
            "36:\tlearn: 0.4899203\ttotal: 4.85s\tremaining: 393ms\n",
            "37:\tlearn: 0.4896995\ttotal: 5.02s\tremaining: 264ms\n",
            "38:\tlearn: 0.4894946\ttotal: 5.14s\tremaining: 132ms\n",
            "39:\tlearn: 0.4892774\ttotal: 5.27s\tremaining: 0us\n",
            "roc_auc_score:  0.6576694945188316\n",
            "final roc_auc_score: 0.6573321473595893\n"
          ],
          "name": "stdout"
        }
      ]
    },
    {
      "metadata": {
        "id": "pxW616QPIzVx",
        "colab_type": "code",
        "outputId": "bc078121-817a-4e2b-87f3-238436bc54a2",
        "colab": {
          "base_uri": "https://localhost:8080/",
          "height": 52
        }
      },
      "cell_type": "code",
      "source": [
        "pred=m.predict_proba(X_test)[:,-1]\n"
      ],
      "execution_count": 0,
      "outputs": [
        {
          "output_type": "execute_result",
          "data": {
            "text/plain": [
              "array([0.23836499, 0.20566324, 0.14961299, ..., 0.18659163, 0.24867946,\n",
              "       0.27125478])"
            ]
          },
          "metadata": {
            "tags": []
          },
          "execution_count": 81
        }
      ]
    },
    {
      "metadata": {
        "id": "An10SkbvI1Ol",
        "colab_type": "code",
        "outputId": "04ca667f-5d73-4271-cd77-4098ca6a0c46",
        "colab": {
          "base_uri": "https://localhost:8080/",
          "height": 340
        }
      },
      "cell_type": "code",
      "source": [
        "print(\"final roc_auc_score without tunning :\",np.mean(auc))\n",
        "from sklearn.metrics import accuracy_score,confusion_matrix,roc_auc_score,roc_curve\n",
        "fpr, tpr, _ = roc_curve(y_testt,preds)\n",
        "auc = roc_auc_score(y_testt,preds)\n",
        "plt.plot(fpr,tpr,label=\"data 1, auc=\"+str(auc))\n",
        "plt.legend(loc=4)\n",
        "plt.show()"
      ],
      "execution_count": 0,
      "outputs": [
        {
          "output_type": "stream",
          "text": [
            "final roc_auc_score without tunning : 0.6573321473595893\n"
          ],
          "name": "stdout"
        },
        {
          "output_type": "display_data",
          "data": {
            "image/png": "[encoded data removed]",
            "text/plain": [
              "<Figure size 1296x360 with 1 Axes>"
            ]
          },
          "metadata": {
            "tags": []
          }
        }
      ]
    },
    {
      "metadata": {
        "id": "M2yD8SYecip3",
        "colab_type": "code",
        "colab": {}
      },
      "cell_type": "code",
      "source": [
        "from sklearn.model_selection import GridSearchCV\n",
        "select_catboost_clf =catboost.CatBoostClassifier(n_estimators=40,learning_rate=0.01,thread_count=4,depth=4)\n",
        "\n",
        "# Set a list of parameters\n",
        "param_grid = {\n",
        "    \n",
        "            'l2_leaf_reg':[3,1,5,10,100],\n",
        "          'border_count':[32,5,10,20,50,100,200],\n",
        "          'ctr_border_count':[50,5,10,20,100,200],\n",
        "}\n",
        "grid_clf = GridSearchCV(select_catboost_clf,param_grid,cv=5, scoring='roc_auc')\n",
        "grid_clf.fit(X_trainn,y_trainn)\n",
        "print( grid_clf.best_params_, grid_clf.best_score_)"
      ],
      "execution_count": 0,
      "outputs": []
    },
    {
      "metadata": {
        "id": "qSXpt6ZKFjpe",
        "colab_type": "code",
        "outputId": "3dfe66da-e6a6-499a-ebbe-e1955d000c37",
        "colab": {
          "base_uri": "https://localhost:8080/",
          "height": 212
        }
      },
      "cell_type": "code",
      "source": [
        "#Catboost\n",
        "# parameters tunning one \n",
        "import catboost\n",
        "from sklearn.metrics import accuracy_score,confusion_matrix,roc_auc_score\n",
        "auc=[]\n",
        "\n",
        "from sklearn.model_selection import KFold,StratifiedKFold\n",
        "fold=StratifiedKFold(n_splits=10,shuffle=True,random_state=1994)\n",
        "i=1\n",
        "for train_index, test_index in fold.split(X_train,y_train):\n",
        "    X_trainn, X_testt = X_train.iloc[train_index], X_train.iloc[test_index]\n",
        "    y_trainn, y_testt = y_train.iloc[train_index], y_train.iloc[test_index]\n",
        "    #print(X_test.isnull().sum())\n",
        "    categorical_features_indices = np.where(X_trainn.dtypes =='object')[0]\n",
        "    m=catboost.CatBoostClassifier(learning_rate = 0.03998,iterations = 1497, l2_leaf_reg = 49.97,scale_pos_weight = 2.207,eval_metric='AUC',\n",
        "                            silent = True,cat_features=categorical_features_indices)\n",
        "    m.fit(X_trainn,y_trainn)\n",
        "    preds=m.predict_proba(X_testt)[:,-1]\n",
        "    print(\"roc_auc_score: \",roc_auc_score(y_testt,preds))\n",
        "    auc.append(roc_auc_score(y_testt,preds))\n",
        "print(\"final roc_auc_score:\",np.mean(auc))   \n",
        "#  m=catboost.CatBoostClassifier(learning_rate = 0.03185,iterations = 1000, l2_leaf_reg = 999.6,scale_pos_weight = 1.915,eval_metric='AUC',\n",
        "                            #silent = True,cat_features=categorical_features_indices) 0.6656 roc"
      ],
      "execution_count": 0,
      "outputs": [
        {
          "output_type": "stream",
          "text": [
            "roc_auc_score:  0.6709306307240549\n",
            "roc_auc_score:  0.6672546602665688\n",
            "roc_auc_score:  0.6663149511472682\n",
            "roc_auc_score:  0.6712432047327117\n",
            "roc_auc_score:  0.6622855993942731\n",
            "roc_auc_score:  0.6700142828519505\n",
            "roc_auc_score:  0.6644452035190974\n",
            "roc_auc_score:  0.6700553973598804\n",
            "roc_auc_score:  0.6710476389062943\n",
            "roc_auc_score:  0.6682187576379212\n",
            "final roc_auc_score: 0.6681810326540021\n"
          ],
          "name": "stdout"
        }
      ]
    },
    {
      "metadata": {
        "id": "Fg6b7mY2afmg",
        "colab_type": "code",
        "outputId": "70e29b9a-d0a7-44f9-a286-7a99058a85b9",
        "colab": {
          "base_uri": "https://localhost:8080/",
          "height": 340
        }
      },
      "cell_type": "code",
      "source": [
        "print(\"final roc_auc_score with tunning :\",np.mean(auc))\n",
        "from sklearn.metrics import accuracy_score,confusion_matrix,roc_auc_score,roc_curve\n",
        "fpr, tpr, _ = roc_curve(y_testt,preds)\n",
        "auc = roc_auc_score(y_testt,preds)\n",
        "plt.plot(fpr,tpr,label=\"data 1, auc=\"+str(auc))\n",
        "plt.legend(loc=4)\n",
        "plt.show()"
      ],
      "execution_count": 0,
      "outputs": [
        {
          "output_type": "stream",
          "text": [
            "final roc_auc_score with tunning : 0.6682187576379212\n"
          ],
          "name": "stdout"
        },
        {
          "output_type": "display_data",
          "data": {
            "image/png": "[encoded data removed]",
            "text/plain": [
              "<Figure size 1296x360 with 1 Axes>"
            ]
          },
          "metadata": {
            "tags": []
          }
        }
      ]
    }
  ]
}